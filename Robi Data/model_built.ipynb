{
 "cells": [
  {
   "cell_type": "code",
   "execution_count": 1,
   "metadata": {},
   "outputs": [],
   "source": [
    "import joblib as jb\n",
    "#jb.dump(model, f'model{int(f1_score(y_pred=model.predict(x_test), y_true=y_test)*100)}.joblib')"
   ]
  },
  {
   "cell_type": "code",
   "execution_count": null,
   "metadata": {},
   "outputs": [],
   "source": [
    "model = jb.load('model92%.joblib')\n",
    "\"\"\"print(\"F1 Score:{}\".format(f1_score(y_pred=model.predict(x_test), y_true=y_test)))\n",
    "print(\"precision Score:{}\".format(precision_score(y_pred=model.predict(x_test), y_true=y_test)))\n",
    "print(\"recall Score:{}\".format(recall_score(y_pred=model.predict(x_test), y_true=y_test)))\n",
    "print(\"accuracy {}\".format(model.score(x_test, y_test)))\n",
    "plot_confusion_matrix(model, x_test, y_test)\"\"\""
   ]
  }
 ],
 "metadata": {
  "kernelspec": {
   "display_name": "Python 3.9.5 64-bit",
   "language": "python",
   "name": "python3"
  },
  "language_info": {
   "codemirror_mode": {
    "name": "ipython",
    "version": 3
   },
   "file_extension": ".py",
   "mimetype": "text/x-python",
   "name": "python",
   "nbconvert_exporter": "python",
   "pygments_lexer": "ipython3",
   "version": "3.9.5"
  },
  "orig_nbformat": 4,
  "vscode": {
   "interpreter": {
    "hash": "4fbfea1dd5a17f80dff8df3ba641602c59e31ce1a55b82aea18e6894ff3c71a7"
   }
  }
 },
 "nbformat": 4,
 "nbformat_minor": 2
}
