{
 "cells": [
  {
   "cell_type": "markdown",
   "metadata": {},
   "source": [
    "**Data is often most scarce in the areas where it is most desperately needed. With a vision to build capacity and talent in the field of data science and machine learning in Bangladesh, Robi, the second-largest mobile network operator, held the Datathon Bangladesh 2022 competition at the Robi Corporate Office, supported by Axiata Analytics. On the Kaggle website, we got to access the complete datasets at the beginning of the competition, after accepting the competition’s rules. We then downloaded the data, built models on it, generated a prediction file, and then uploaded our predictions as a submission on Kaggle.**"
   ]
  },
  {
   "cell_type": "markdown",
   "metadata": {},
   "source": [
    "# Feature Selection"
   ]
  },
  {
   "cell_type": "markdown",
   "metadata": {},
   "source": [
    "The given dataset is so vast that without making an ML model, in the course of observing the dataset, it will be beyond our comprehension and we won't be able to predict the data. For making an ML model, the features and labels are necessary. As the label was already given, we chose the features for our model from the dataset. There were a lot of unnecessary columns and unrelated data which we dropped while choosing the features of our ML model. There were also some blank spaces in some cells. We cleaned the data and moved forward to make our machine learning model to predict the dataset. We organized the whole dataset by dropping, cleaning it, and making it more refined. From the mean condition and standard deviation, we could conclude that most of the data were scaled. We dimensionally fitted the scalable dataset. Thus we were able to clean the given data and make it as refined as possible to make our ML Model."
   ]
  },
  {
   "cell_type": "markdown",
   "metadata": {},
   "source": [
    "In this section, we imported Pandas and NumPy tools for cleaning the data. Then we imported the training set by the read_csv function to get the train.csv file as a Data Frame. After that, we checked the columns present. Then we checked the uniqueness of the given data and took the info from the dataset. From the information and description, we checked the empty cells for the missing data using the isnull function along with checking the unrelated data. We didn't scale the data as from observing the mean condition and the standard deviation, we could conclude that most of the data ranges were not much deviated from one another. So, we didn't scale the data. Then, we sliced the data by dropping some columns and rows. After slicing, we got our desired cleaned data without any misinformation where the labels and features were distinguishable."
   ]
  },
  {
   "cell_type": "markdown",
   "metadata": {},
   "source": [
    "The needed modules installing"
   ]
  },
  {
   "cell_type": "code",
   "execution_count": 251,
   "metadata": {},
   "outputs": [
    {
     "name": "stdout",
     "output_type": "stream",
     "text": [
      "Defaulting to user installation because normal site-packages is not writeable\n",
      "Requirement already satisfied: pandas in c:\\users\\mijanur rehman\\appdata\\roaming\\python\\python39\\site-packages (1.2.3)\n",
      "Requirement already satisfied: python-dateutil>=2.7.3 in c:\\users\\mijanur rehman\\appdata\\roaming\\python\\python39\\site-packages (from pandas) (2.8.2)\n",
      "Requirement already satisfied: pytz>=2017.3 in c:\\users\\mijanur rehman\\appdata\\roaming\\python\\python39\\site-packages (from pandas) (2021.1)\n",
      "Requirement already satisfied: numpy>=1.16.5 in c:\\users\\mijanur rehman\\appdata\\roaming\\python\\python39\\site-packages (from pandas) (1.19.5)\n",
      "Requirement already satisfied: six>=1.5 in c:\\users\\mijanur rehman\\appdata\\roaming\\python\\python39\\site-packages (from python-dateutil>=2.7.3->pandas) (1.16.0)\n"
     ]
    },
    {
     "name": "stderr",
     "output_type": "stream",
     "text": [
      "WARNING: Ignoring invalid distribution -nspython (c:\\users\\mijanur rehman\\appdata\\roaming\\python\\python39\\site-packages)\n",
      "WARNING: Ignoring invalid distribution -nspython (c:\\users\\mijanur rehman\\appdata\\roaming\\python\\python39\\site-packages)\n",
      "WARNING: Ignoring invalid distribution -nspython (c:\\users\\mijanur rehman\\appdata\\roaming\\python\\python39\\site-packages)\n",
      "WARNING: Ignoring invalid distribution -nspython (c:\\users\\mijanur rehman\\appdata\\roaming\\python\\python39\\site-packages)\n",
      "WARNING: Ignoring invalid distribution -nspython (c:\\users\\mijanur rehman\\appdata\\roaming\\python\\python39\\site-packages)\n",
      "WARNING: Ignoring invalid distribution -nspython (c:\\users\\mijanur rehman\\appdata\\roaming\\python\\python39\\site-packages)\n",
      "WARNING: You are using pip version 21.2.4; however, version 22.1.2 is available.\n",
      "You should consider upgrading via the 'c:\\program files\\python\\python39\\python.exe -m pip install --upgrade pip' command.\n"
     ]
    },
    {
     "name": "stdout",
     "output_type": "stream",
     "text": [
      "Defaulting to user installation because normal site-packages is not writeable\n",
      "Requirement already satisfied: numpy in c:\\users\\mijanur rehman\\appdata\\roaming\\python\\python39\\site-packages (1.19.5)\n"
     ]
    },
    {
     "name": "stderr",
     "output_type": "stream",
     "text": [
      "WARNING: Ignoring invalid distribution -nspython (c:\\users\\mijanur rehman\\appdata\\roaming\\python\\python39\\site-packages)\n",
      "WARNING: Ignoring invalid distribution -nspython (c:\\users\\mijanur rehman\\appdata\\roaming\\python\\python39\\site-packages)\n",
      "WARNING: Ignoring invalid distribution -nspython (c:\\users\\mijanur rehman\\appdata\\roaming\\python\\python39\\site-packages)\n",
      "WARNING: Ignoring invalid distribution -nspython (c:\\users\\mijanur rehman\\appdata\\roaming\\python\\python39\\site-packages)\n",
      "WARNING: Ignoring invalid distribution -nspython (c:\\users\\mijanur rehman\\appdata\\roaming\\python\\python39\\site-packages)\n",
      "WARNING: Ignoring invalid distribution -nspython (c:\\users\\mijanur rehman\\appdata\\roaming\\python\\python39\\site-packages)\n",
      "WARNING: You are using pip version 21.2.4; however, version 22.1.2 is available.\n",
      "You should consider upgrading via the 'c:\\program files\\python\\python39\\python.exe -m pip install --upgrade pip' command.\n"
     ]
    },
    {
     "name": "stdout",
     "output_type": "stream",
     "text": [
      "Defaulting to user installation because normal site-packages is not writeable\n",
      "Requirement already satisfied: matplotlib in c:\\users\\mijanur rehman\\appdata\\roaming\\python\\python39\\site-packages (3.4.2)\n",
      "Requirement already satisfied: cycler>=0.10 in c:\\users\\mijanur rehman\\appdata\\roaming\\python\\python39\\site-packages (from matplotlib) (0.10.0)\n",
      "Requirement already satisfied: pyparsing>=2.2.1 in c:\\users\\mijanur rehman\\appdata\\roaming\\python\\python39\\site-packages (from matplotlib) (2.4.7)\n",
      "Requirement already satisfied: python-dateutil>=2.7 in c:\\users\\mijanur rehman\\appdata\\roaming\\python\\python39\\site-packages (from matplotlib) (2.8.2)\n",
      "Requirement already satisfied: pillow>=6.2.0 in c:\\users\\mijanur rehman\\appdata\\roaming\\python\\python39\\site-packages (from matplotlib) (8.1.2)\n",
      "Requirement already satisfied: kiwisolver>=1.0.1 in c:\\users\\mijanur rehman\\appdata\\roaming\\python\\python39\\site-packages (from matplotlib) (1.3.1)\n",
      "Requirement already satisfied: numpy>=1.16 in c:\\users\\mijanur rehman\\appdata\\roaming\\python\\python39\\site-packages (from matplotlib) (1.19.5)\n",
      "Requirement already satisfied: six in c:\\users\\mijanur rehman\\appdata\\roaming\\python\\python39\\site-packages (from cycler>=0.10->matplotlib) (1.16.0)\n"
     ]
    },
    {
     "name": "stderr",
     "output_type": "stream",
     "text": [
      "WARNING: Ignoring invalid distribution -nspython (c:\\users\\mijanur rehman\\appdata\\roaming\\python\\python39\\site-packages)\n",
      "WARNING: Ignoring invalid distribution -nspython (c:\\users\\mijanur rehman\\appdata\\roaming\\python\\python39\\site-packages)\n",
      "WARNING: Ignoring invalid distribution -nspython (c:\\users\\mijanur rehman\\appdata\\roaming\\python\\python39\\site-packages)\n",
      "WARNING: Ignoring invalid distribution -nspython (c:\\users\\mijanur rehman\\appdata\\roaming\\python\\python39\\site-packages)\n",
      "WARNING: Ignoring invalid distribution -nspython (c:\\users\\mijanur rehman\\appdata\\roaming\\python\\python39\\site-packages)\n",
      "WARNING: Ignoring invalid distribution -nspython (c:\\users\\mijanur rehman\\appdata\\roaming\\python\\python39\\site-packages)\n",
      "WARNING: You are using pip version 21.2.4; however, version 22.1.2 is available.\n",
      "You should consider upgrading via the 'c:\\program files\\python\\python39\\python.exe -m pip install --upgrade pip' command.\n"
     ]
    },
    {
     "name": "stdout",
     "output_type": "stream",
     "text": [
      "Defaulting to user installation because normal site-packages is not writeable\n",
      "Requirement already satisfied: optuna in c:\\users\\mijanur rehman\\appdata\\roaming\\python\\python39\\site-packages (2.10.0)\n",
      "Requirement already satisfied: cliff in c:\\users\\mijanur rehman\\appdata\\roaming\\python\\python39\\site-packages (from optuna) (3.10.1)\n",
      "Requirement already satisfied: colorlog in c:\\users\\mijanur rehman\\appdata\\roaming\\python\\python39\\site-packages (from optuna) (6.6.0)\n",
      "Requirement already satisfied: PyYAML in c:\\users\\mijanur rehman\\appdata\\roaming\\python\\python39\\site-packages (from optuna) (5.4.1)\n",
      "Requirement already satisfied: sqlalchemy>=1.1.0 in c:\\users\\mijanur rehman\\appdata\\roaming\\python\\python39\\site-packages (from optuna) (1.4.33)\n",
      "Requirement already satisfied: numpy in c:\\users\\mijanur rehman\\appdata\\roaming\\python\\python39\\site-packages (from optuna) (1.19.5)\n",
      "Requirement already satisfied: tqdm in c:\\users\\mijanur rehman\\appdata\\roaming\\python\\python39\\site-packages (from optuna) (4.59.0)\n",
      "Requirement already satisfied: cmaes>=0.8.2 in c:\\users\\mijanur rehman\\appdata\\roaming\\python\\python39\\site-packages (from optuna) (0.8.2)\n",
      "Requirement already satisfied: scipy!=1.4.0 in c:\\users\\mijanur rehman\\appdata\\roaming\\python\\python39\\site-packages (from optuna) (1.6.1)\n",
      "Requirement already satisfied: alembic in c:\\users\\mijanur rehman\\appdata\\roaming\\python\\python39\\site-packages (from optuna) (1.7.7)\n",
      "Requirement already satisfied: packaging>=20.0 in c:\\users\\mijanur rehman\\appdata\\roaming\\python\\python39\\site-packages (from optuna) (20.9)\n",
      "Requirement already satisfied: pyparsing>=2.0.2 in c:\\users\\mijanur rehman\\appdata\\roaming\\python\\python39\\site-packages (from packaging>=20.0->optuna) (2.4.7)\n",
      "Requirement already satisfied: greenlet!=0.4.17 in c:\\users\\mijanur rehman\\appdata\\roaming\\python\\python39\\site-packages (from sqlalchemy>=1.1.0->optuna) (1.1.2)\n",
      "Requirement already satisfied: Mako in c:\\users\\mijanur rehman\\appdata\\roaming\\python\\python39\\site-packages (from alembic->optuna) (1.2.0)\n",
      "Requirement already satisfied: autopage>=0.4.0 in c:\\users\\mijanur rehman\\appdata\\roaming\\python\\python39\\site-packages (from cliff->optuna) (0.5.0)\n",
      "Requirement already satisfied: cmd2>=1.0.0 in c:\\users\\mijanur rehman\\appdata\\roaming\\python\\python39\\site-packages (from cliff->optuna) (2.4.1)\n",
      "Requirement already satisfied: stevedore>=2.0.1 in c:\\users\\mijanur rehman\\appdata\\roaming\\python\\python39\\site-packages (from cliff->optuna) (3.5.0)\n",
      "Requirement already satisfied: PrettyTable>=0.7.2 in c:\\users\\mijanur rehman\\appdata\\roaming\\python\\python39\\site-packages (from cliff->optuna) (3.3.0)\n",
      "Requirement already satisfied: pbr!=2.1.0,>=2.0.0 in c:\\users\\mijanur rehman\\appdata\\roaming\\python\\python39\\site-packages (from cliff->optuna) (5.9.0)\n",
      "Requirement already satisfied: pyreadline3 in c:\\users\\mijanur rehman\\appdata\\roaming\\python\\python39\\site-packages (from cmd2>=1.0.0->cliff->optuna) (3.4.1)\n",
      "Requirement already satisfied: wcwidth>=0.1.7 in c:\\users\\mijanur rehman\\appdata\\roaming\\python\\python39\\site-packages (from cmd2>=1.0.0->cliff->optuna) (0.2.5)\n",
      "Requirement already satisfied: pyperclip>=1.6 in c:\\users\\mijanur rehman\\appdata\\roaming\\python\\python39\\site-packages (from cmd2>=1.0.0->cliff->optuna) (1.8.2)\n",
      "Requirement already satisfied: attrs>=16.3.0 in c:\\users\\mijanur rehman\\appdata\\roaming\\python\\python39\\site-packages (from cmd2>=1.0.0->cliff->optuna) (20.3.0)\n",
      "Requirement already satisfied: colorama in c:\\users\\mijanur rehman\\appdata\\roaming\\python\\python39\\site-packages (from colorlog->optuna) (0.4.4)\n",
      "Requirement already satisfied: MarkupSafe>=0.9.2 in c:\\users\\mijanur rehman\\appdata\\roaming\\python\\python39\\site-packages (from Mako->alembic->optuna) (2.1.1)\n"
     ]
    },
    {
     "name": "stderr",
     "output_type": "stream",
     "text": [
      "WARNING: Ignoring invalid distribution -nspython (c:\\users\\mijanur rehman\\appdata\\roaming\\python\\python39\\site-packages)\n",
      "WARNING: Ignoring invalid distribution -nspython (c:\\users\\mijanur rehman\\appdata\\roaming\\python\\python39\\site-packages)\n",
      "WARNING: Ignoring invalid distribution -nspython (c:\\users\\mijanur rehman\\appdata\\roaming\\python\\python39\\site-packages)\n",
      "WARNING: Ignoring invalid distribution -nspython (c:\\users\\mijanur rehman\\appdata\\roaming\\python\\python39\\site-packages)\n",
      "WARNING: Ignoring invalid distribution -nspython (c:\\users\\mijanur rehman\\appdata\\roaming\\python\\python39\\site-packages)\n",
      "WARNING: Ignoring invalid distribution -nspython (c:\\users\\mijanur rehman\\appdata\\roaming\\python\\python39\\site-packages)\n",
      "WARNING: You are using pip version 21.2.4; however, version 22.1.2 is available.\n",
      "You should consider upgrading via the 'c:\\program files\\python\\python39\\python.exe -m pip install --upgrade pip' command.\n"
     ]
    },
    {
     "name": "stdout",
     "output_type": "stream",
     "text": [
      "Defaulting to user installation because normal site-packages is not writeable\n",
      "Requirement already satisfied: sklearn in c:\\users\\mijanur rehman\\appdata\\roaming\\python\\python39\\site-packages (0.0)\n",
      "Requirement already satisfied: scikit-learn in c:\\users\\mijanur rehman\\appdata\\roaming\\python\\python39\\site-packages (from sklearn) (0.24.1)\n",
      "Requirement already satisfied: threadpoolctl>=2.0.0 in c:\\users\\mijanur rehman\\appdata\\roaming\\python\\python39\\site-packages (from scikit-learn->sklearn) (2.1.0)\n",
      "Requirement already satisfied: scipy>=0.19.1 in c:\\users\\mijanur rehman\\appdata\\roaming\\python\\python39\\site-packages (from scikit-learn->sklearn) (1.6.1)\n",
      "Requirement already satisfied: joblib>=0.11 in c:\\users\\mijanur rehman\\appdata\\roaming\\python\\python39\\site-packages (from scikit-learn->sklearn) (1.0.1)\n",
      "Requirement already satisfied: numpy>=1.13.3 in c:\\users\\mijanur rehman\\appdata\\roaming\\python\\python39\\site-packages (from scikit-learn->sklearn) (1.19.5)\n"
     ]
    },
    {
     "name": "stderr",
     "output_type": "stream",
     "text": [
      "WARNING: Ignoring invalid distribution -nspython (c:\\users\\mijanur rehman\\appdata\\roaming\\python\\python39\\site-packages)\n",
      "WARNING: Ignoring invalid distribution -nspython (c:\\users\\mijanur rehman\\appdata\\roaming\\python\\python39\\site-packages)\n",
      "WARNING: Ignoring invalid distribution -nspython (c:\\users\\mijanur rehman\\appdata\\roaming\\python\\python39\\site-packages)\n",
      "WARNING: Ignoring invalid distribution -nspython (c:\\users\\mijanur rehman\\appdata\\roaming\\python\\python39\\site-packages)\n",
      "WARNING: Ignoring invalid distribution -nspython (c:\\users\\mijanur rehman\\appdata\\roaming\\python\\python39\\site-packages)\n",
      "WARNING: Ignoring invalid distribution -nspython (c:\\users\\mijanur rehman\\appdata\\roaming\\python\\python39\\site-packages)\n",
      "WARNING: You are using pip version 21.2.4; however, version 22.1.2 is available.\n",
      "You should consider upgrading via the 'c:\\program files\\python\\python39\\python.exe -m pip install --upgrade pip' command.\n"
     ]
    },
    {
     "name": "stdout",
     "output_type": "stream",
     "text": [
      "Defaulting to user installation because normal site-packages is not writeable\n",
      "Requirement already satisfied: xgboost in c:\\users\\mijanur rehman\\appdata\\roaming\\python\\python39\\site-packages (1.6.0)\n",
      "Requirement already satisfied: scipy in c:\\users\\mijanur rehman\\appdata\\roaming\\python\\python39\\site-packages (from xgboost) (1.6.1)\n",
      "Requirement already satisfied: numpy in c:\\users\\mijanur rehman\\appdata\\roaming\\python\\python39\\site-packages (from xgboost) (1.19.5)\n"
     ]
    },
    {
     "name": "stderr",
     "output_type": "stream",
     "text": [
      "WARNING: Ignoring invalid distribution -nspython (c:\\users\\mijanur rehman\\appdata\\roaming\\python\\python39\\site-packages)\n",
      "WARNING: Ignoring invalid distribution -nspython (c:\\users\\mijanur rehman\\appdata\\roaming\\python\\python39\\site-packages)\n",
      "WARNING: Ignoring invalid distribution -nspython (c:\\users\\mijanur rehman\\appdata\\roaming\\python\\python39\\site-packages)\n",
      "WARNING: Ignoring invalid distribution -nspython (c:\\users\\mijanur rehman\\appdata\\roaming\\python\\python39\\site-packages)\n",
      "WARNING: Ignoring invalid distribution -nspython (c:\\users\\mijanur rehman\\appdata\\roaming\\python\\python39\\site-packages)\n",
      "WARNING: Ignoring invalid distribution -nspython (c:\\users\\mijanur rehman\\appdata\\roaming\\python\\python39\\site-packages)\n",
      "WARNING: You are using pip version 21.2.4; however, version 22.1.2 is available.\n",
      "You should consider upgrading via the 'c:\\program files\\python\\python39\\python.exe -m pip install --upgrade pip' command.\n"
     ]
    }
   ],
   "source": [
    "!pip install pandas\n",
    "!pip install numpy\n",
    "!pip install matplotlib\n",
    "!pip install optuna\n",
    "!pip install sklearn\n",
    "!pip install xgboost\n"
   ]
  },
  {
   "cell_type": "code",
   "execution_count": 252,
   "metadata": {},
   "outputs": [],
   "source": [
    "#Data Processing Modules \n",
    "import pandas as pd\n",
    "import numpy as np\n",
    "import matplotlib.pyplot as plt"
   ]
  },
  {
   "cell_type": "code",
   "execution_count": 253,
   "metadata": {},
   "outputs": [],
   "source": [
    "#Reading data from CSV\n",
    "data = pd.read_csv('train.csv')"
   ]
  },
  {
   "cell_type": "code",
   "execution_count": 254,
   "metadata": {},
   "outputs": [
    {
     "name": "stdout",
     "output_type": "stream",
     "text": [
      "id:[\"b'gAAAAABinOicS09vrmgh0_JyEHihI13ptO0rCyHP7l76be71PWA2ReUc4HUQn16Fya1z8_VStNnFGaXJF262CgsuMPzOaknSeg=='\"\n",
      " \"b'gAAAAABinOiWGC1WhR6WYP0DA5ssGv9rIekrWUwCdJ8FvkVcSUl2AquMfWqtOqs3AQYGxS13wQv9Tx4GEkPEl5RnbchazqsZcw=='\"\n",
      " \"b'gAAAAABinOibTcOBFIVeA4nVF3FuFz_QX3ZlPPFc21gS9EYdw6Wo8Y5agbzfD6hhsaXZCBdrUQVPpZBXYsODc2PDjER2DX5QcA=='\"\n",
      " ...\n",
      " \"b'gAAAAABinOicscC37w1W9uiIlYL1U5D_mUtmgdUg8QTlgTDiCQj0N8l5xVuD5tTmGrYgogJLq-v9Z6fCyGeAng__ulkRJQi-Xg=='\"\n",
      " \"b'gAAAAABinOib-JZ8iQDxjSRsa1dPT1TqeSQ_si4mAw5fX_kDmvIAkIofJCd_35viYIE5AhMTE-MYsS5yYkiD_9J6ewDjL1cYuQ=='\"\n",
      " \"b'gAAAAABinOiZ3mCQAtoJFXj-Ymjhi9FbbZ_Ypi5gDoAEYe1Cx66GhkhZ5UIJNLcPlgrRyfpabvIwD5ok1GxipWfkujjwXyMMBw=='\"]\n",
      "gender:['M' 'F']\n",
      "s11:['Y' 'N']\n",
      "s12:['N' 'Y']\n",
      "s13:[1 0]\n",
      "s16:['D' 'B' 'C' 'A']\n",
      "s17:['D' 'C' 'B' 'A']\n",
      "s18:['B' 'D' 'C' 'A']\n",
      "s48:[0 1]\n",
      "s52:['1' 'l' '0' 'o']\n",
      "s53:['  ' ' ']\n",
      "s54:[nan 'b2' 'aa' '22' '2a' '2b' 'a2' 'bb' 'ab' 'ba']\n",
      "s55:['kK' nan 'kk' '2K' 'k2' 'KK' '22' 'K2' '2k' 'Kk']\n",
      "s56:[nan]\n",
      "s57:[nan]\n",
      "s58:['B' 'A']\n",
      "s59:[nan]\n",
      "s69:['x' '~1' 'C`' '0']\n",
      "s70:['op: D' 'op: C' 'op: B' 'op: A']\n",
      "s71:['b' 'd' 'c' 'a']\n",
      "n1:[16.14466597  7.14455819  6.92323603 ... 13.42979701 16.09462206\n",
      "  7.05810713]\n",
      "n2:[1.98944148 0.8448659  1.04201802 ... 1.80056198 2.43828046 1.02317194]\n",
      "n3:[2 3 6 9 7 8 4 0 5 1]\n",
      "n4:[2.31838468 6.19776785 7.82440091 ... 7.76338648 6.94276637 5.94202455]\n",
      "n5:[-32.83927744 -32.5765972  -32.51054438 ... -32.57597474 -32.57756295\n",
      " -32.84889674]\n",
      "n6:[0.01717551 0.01385715 0.01394339 ... 0.01778231 0.00732437 0.01592836]\n",
      "n7:[-9.12605619 -9.09828731 -9.2348943  ... -9.23372167 -8.74894117\n",
      " -9.28094998]\n",
      "n8:[1.73229112 1.50588495 1.50382812 ... 1.45591114 2.07439439 1.49047818]\n",
      "n9:[ 3.69850365  6.79135689  4.10968506 ...  2.90024887 10.67325854\n",
      "  3.56959828]\n",
      "n10:[ 4.80451719  6.11041593  3.95322561 ...  6.05868135 11.38764584\n",
      "  4.58496706]\n",
      "n11:[1.54448412 1.71235408 1.80426032 ... 1.62747936 1.56039055 1.77799538]\n",
      "n12:[0 1]\n",
      "n13:[0 1]\n",
      "n14:[0.63122034 0.39274602 0.22253668 ... 0.82658667 0.10352333 0.43507876]\n",
      "n15:[5 3 2 4 1 6 0]\n",
      "label:[0 1]\n"
     ]
    }
   ],
   "source": [
    "#Checking the data according to coloumn wise\n",
    "for col in data.columns:\n",
    "    print(\"{}:{}\".format(col, data[col].unique()))"
   ]
  },
  {
   "cell_type": "code",
   "execution_count": 255,
   "metadata": {},
   "outputs": [
    {
     "name": "stdout",
     "output_type": "stream",
     "text": [
      "<class 'pandas.core.frame.DataFrame'>\n",
      "RangeIndex: 28322 entries, 0 to 28321\n",
      "Data columns (total 36 columns):\n",
      " #   Column  Non-Null Count  Dtype  \n",
      "---  ------  --------------  -----  \n",
      " 0   id      28322 non-null  object \n",
      " 1   gender  28322 non-null  object \n",
      " 2   s11     28322 non-null  object \n",
      " 3   s12     28322 non-null  object \n",
      " 4   s13     28322 non-null  int64  \n",
      " 5   s16     28322 non-null  object \n",
      " 6   s17     28322 non-null  object \n",
      " 7   s18     28322 non-null  object \n",
      " 8   s48     28322 non-null  int64  \n",
      " 9   s52     28322 non-null  object \n",
      " 10  s53     28322 non-null  object \n",
      " 11  s54     2628 non-null   object \n",
      " 12  s55     3206 non-null   object \n",
      " 13  s56     0 non-null      float64\n",
      " 14  s57     0 non-null      float64\n",
      " 15  s58     28322 non-null  object \n",
      " 16  s59     0 non-null      float64\n",
      " 17  s69     28322 non-null  object \n",
      " 18  s70     28322 non-null  object \n",
      " 19  s71     28322 non-null  object \n",
      " 20  n1      28322 non-null  float64\n",
      " 21  n2      28322 non-null  float64\n",
      " 22  n3      28322 non-null  int64  \n",
      " 23  n4      28322 non-null  float64\n",
      " 24  n5      28322 non-null  float64\n",
      " 25  n6      28322 non-null  float64\n",
      " 26  n7      28322 non-null  float64\n",
      " 27  n8      28322 non-null  float64\n",
      " 28  n9      28322 non-null  float64\n",
      " 29  n10     28322 non-null  float64\n",
      " 30  n11     28322 non-null  float64\n",
      " 31  n12     28322 non-null  int64  \n",
      " 32  n13     28322 non-null  int64  \n",
      " 33  n14     28322 non-null  float64\n",
      " 34  n15     28322 non-null  int64  \n",
      " 35  label   28322 non-null  int64  \n",
      "dtypes: float64(14), int64(7), object(15)\n",
      "memory usage: 7.8+ MB\n"
     ]
    }
   ],
   "source": [
    "#Checking the data information\n",
    "data.info()"
   ]
  },
  {
   "cell_type": "code",
   "execution_count": 256,
   "metadata": {},
   "outputs": [
    {
     "data": {
      "text/html": [
       "<div>\n",
       "<style scoped>\n",
       "    .dataframe tbody tr th:only-of-type {\n",
       "        vertical-align: middle;\n",
       "    }\n",
       "\n",
       "    .dataframe tbody tr th {\n",
       "        vertical-align: top;\n",
       "    }\n",
       "\n",
       "    .dataframe thead th {\n",
       "        text-align: right;\n",
       "    }\n",
       "</style>\n",
       "<table border=\"1\" class=\"dataframe\">\n",
       "  <thead>\n",
       "    <tr style=\"text-align: right;\">\n",
       "      <th></th>\n",
       "      <th>count</th>\n",
       "      <th>mean</th>\n",
       "      <th>std</th>\n",
       "      <th>min</th>\n",
       "      <th>25%</th>\n",
       "      <th>50%</th>\n",
       "      <th>75%</th>\n",
       "      <th>max</th>\n",
       "    </tr>\n",
       "  </thead>\n",
       "  <tbody>\n",
       "    <tr>\n",
       "      <th>s13</th>\n",
       "      <td>28322.0</td>\n",
       "      <td>0.983123</td>\n",
       "      <td>0.128814</td>\n",
       "      <td>0.000000</td>\n",
       "      <td>1.000000</td>\n",
       "      <td>1.000000</td>\n",
       "      <td>1.000000</td>\n",
       "      <td>1.000000</td>\n",
       "    </tr>\n",
       "    <tr>\n",
       "      <th>s48</th>\n",
       "      <td>28322.0</td>\n",
       "      <td>0.433338</td>\n",
       "      <td>0.495545</td>\n",
       "      <td>0.000000</td>\n",
       "      <td>0.000000</td>\n",
       "      <td>0.000000</td>\n",
       "      <td>1.000000</td>\n",
       "      <td>1.000000</td>\n",
       "    </tr>\n",
       "    <tr>\n",
       "      <th>s56</th>\n",
       "      <td>0.0</td>\n",
       "      <td>NaN</td>\n",
       "      <td>NaN</td>\n",
       "      <td>NaN</td>\n",
       "      <td>NaN</td>\n",
       "      <td>NaN</td>\n",
       "      <td>NaN</td>\n",
       "      <td>NaN</td>\n",
       "    </tr>\n",
       "    <tr>\n",
       "      <th>s57</th>\n",
       "      <td>0.0</td>\n",
       "      <td>NaN</td>\n",
       "      <td>NaN</td>\n",
       "      <td>NaN</td>\n",
       "      <td>NaN</td>\n",
       "      <td>NaN</td>\n",
       "      <td>NaN</td>\n",
       "      <td>NaN</td>\n",
       "    </tr>\n",
       "    <tr>\n",
       "      <th>s59</th>\n",
       "      <td>0.0</td>\n",
       "      <td>NaN</td>\n",
       "      <td>NaN</td>\n",
       "      <td>NaN</td>\n",
       "      <td>NaN</td>\n",
       "      <td>NaN</td>\n",
       "      <td>NaN</td>\n",
       "      <td>NaN</td>\n",
       "    </tr>\n",
       "    <tr>\n",
       "      <th>n1</th>\n",
       "      <td>28322.0</td>\n",
       "      <td>10.201863</td>\n",
       "      <td>4.414660</td>\n",
       "      <td>2.200736</td>\n",
       "      <td>6.592127</td>\n",
       "      <td>9.535961</td>\n",
       "      <td>14.432580</td>\n",
       "      <td>20.882733</td>\n",
       "    </tr>\n",
       "    <tr>\n",
       "      <th>n2</th>\n",
       "      <td>28322.0</td>\n",
       "      <td>1.600111</td>\n",
       "      <td>0.664985</td>\n",
       "      <td>0.311727</td>\n",
       "      <td>1.013540</td>\n",
       "      <td>1.462197</td>\n",
       "      <td>2.194510</td>\n",
       "      <td>3.137331</td>\n",
       "    </tr>\n",
       "    <tr>\n",
       "      <th>n3</th>\n",
       "      <td>28322.0</td>\n",
       "      <td>4.805099</td>\n",
       "      <td>2.199282</td>\n",
       "      <td>0.000000</td>\n",
       "      <td>3.000000</td>\n",
       "      <td>5.000000</td>\n",
       "      <td>6.000000</td>\n",
       "      <td>9.000000</td>\n",
       "    </tr>\n",
       "    <tr>\n",
       "      <th>n4</th>\n",
       "      <td>28322.0</td>\n",
       "      <td>5.080537</td>\n",
       "      <td>2.276162</td>\n",
       "      <td>1.700370</td>\n",
       "      <td>2.833161</td>\n",
       "      <td>4.840320</td>\n",
       "      <td>7.300738</td>\n",
       "      <td>8.594620</td>\n",
       "    </tr>\n",
       "    <tr>\n",
       "      <th>n5</th>\n",
       "      <td>28322.0</td>\n",
       "      <td>-32.641183</td>\n",
       "      <td>0.241453</td>\n",
       "      <td>-33.167589</td>\n",
       "      <td>-32.862207</td>\n",
       "      <td>-32.577026</td>\n",
       "      <td>-32.396733</td>\n",
       "      <td>-32.289180</td>\n",
       "    </tr>\n",
       "    <tr>\n",
       "      <th>n6</th>\n",
       "      <td>28322.0</td>\n",
       "      <td>0.015014</td>\n",
       "      <td>0.006550</td>\n",
       "      <td>0.000584</td>\n",
       "      <td>0.009195</td>\n",
       "      <td>0.016053</td>\n",
       "      <td>0.018771</td>\n",
       "      <td>0.029992</td>\n",
       "    </tr>\n",
       "    <tr>\n",
       "      <th>n7</th>\n",
       "      <td>28322.0</td>\n",
       "      <td>-9.107429</td>\n",
       "      <td>0.205200</td>\n",
       "      <td>-9.517986</td>\n",
       "      <td>-9.258473</td>\n",
       "      <td>-9.174557</td>\n",
       "      <td>-8.964786</td>\n",
       "      <td>-8.586583</td>\n",
       "    </tr>\n",
       "    <tr>\n",
       "      <th>n8</th>\n",
       "      <td>28322.0</td>\n",
       "      <td>1.612428</td>\n",
       "      <td>0.173560</td>\n",
       "      <td>1.178469</td>\n",
       "      <td>1.489924</td>\n",
       "      <td>1.537263</td>\n",
       "      <td>1.730249</td>\n",
       "      <td>2.173593</td>\n",
       "    </tr>\n",
       "    <tr>\n",
       "      <th>n9</th>\n",
       "      <td>28322.0</td>\n",
       "      <td>5.232644</td>\n",
       "      <td>2.179705</td>\n",
       "      <td>2.508858</td>\n",
       "      <td>3.464229</td>\n",
       "      <td>4.461770</td>\n",
       "      <td>6.524341</td>\n",
       "      <td>11.214870</td>\n",
       "    </tr>\n",
       "    <tr>\n",
       "      <th>n10</th>\n",
       "      <td>28322.0</td>\n",
       "      <td>6.115109</td>\n",
       "      <td>2.474138</td>\n",
       "      <td>1.173465</td>\n",
       "      <td>4.414671</td>\n",
       "      <td>5.317154</td>\n",
       "      <td>7.027610</td>\n",
       "      <td>12.029135</td>\n",
       "    </tr>\n",
       "    <tr>\n",
       "      <th>n11</th>\n",
       "      <td>28322.0</td>\n",
       "      <td>1.699553</td>\n",
       "      <td>0.115150</td>\n",
       "      <td>1.500006</td>\n",
       "      <td>1.600056</td>\n",
       "      <td>1.698556</td>\n",
       "      <td>1.799238</td>\n",
       "      <td>1.899995</td>\n",
       "    </tr>\n",
       "    <tr>\n",
       "      <th>n12</th>\n",
       "      <td>28322.0</td>\n",
       "      <td>0.009992</td>\n",
       "      <td>0.099462</td>\n",
       "      <td>0.000000</td>\n",
       "      <td>0.000000</td>\n",
       "      <td>0.000000</td>\n",
       "      <td>0.000000</td>\n",
       "      <td>1.000000</td>\n",
       "    </tr>\n",
       "    <tr>\n",
       "      <th>n13</th>\n",
       "      <td>28322.0</td>\n",
       "      <td>0.089506</td>\n",
       "      <td>0.285478</td>\n",
       "      <td>0.000000</td>\n",
       "      <td>0.000000</td>\n",
       "      <td>0.000000</td>\n",
       "      <td>0.000000</td>\n",
       "      <td>1.000000</td>\n",
       "    </tr>\n",
       "    <tr>\n",
       "      <th>n14</th>\n",
       "      <td>28322.0</td>\n",
       "      <td>0.497570</td>\n",
       "      <td>0.289207</td>\n",
       "      <td>0.000101</td>\n",
       "      <td>0.247801</td>\n",
       "      <td>0.495255</td>\n",
       "      <td>0.748786</td>\n",
       "      <td>0.999990</td>\n",
       "    </tr>\n",
       "    <tr>\n",
       "      <th>n15</th>\n",
       "      <td>28322.0</td>\n",
       "      <td>2.997740</td>\n",
       "      <td>2.007611</td>\n",
       "      <td>0.000000</td>\n",
       "      <td>1.000000</td>\n",
       "      <td>3.000000</td>\n",
       "      <td>5.000000</td>\n",
       "      <td>6.000000</td>\n",
       "    </tr>\n",
       "    <tr>\n",
       "      <th>label</th>\n",
       "      <td>28322.0</td>\n",
       "      <td>0.168067</td>\n",
       "      <td>0.373933</td>\n",
       "      <td>0.000000</td>\n",
       "      <td>0.000000</td>\n",
       "      <td>0.000000</td>\n",
       "      <td>0.000000</td>\n",
       "      <td>1.000000</td>\n",
       "    </tr>\n",
       "  </tbody>\n",
       "</table>\n",
       "</div>"
      ],
      "text/plain": [
       "         count       mean       std        min        25%        50%  \\\n",
       "s13    28322.0   0.983123  0.128814   0.000000   1.000000   1.000000   \n",
       "s48    28322.0   0.433338  0.495545   0.000000   0.000000   0.000000   \n",
       "s56        0.0        NaN       NaN        NaN        NaN        NaN   \n",
       "s57        0.0        NaN       NaN        NaN        NaN        NaN   \n",
       "s59        0.0        NaN       NaN        NaN        NaN        NaN   \n",
       "n1     28322.0  10.201863  4.414660   2.200736   6.592127   9.535961   \n",
       "n2     28322.0   1.600111  0.664985   0.311727   1.013540   1.462197   \n",
       "n3     28322.0   4.805099  2.199282   0.000000   3.000000   5.000000   \n",
       "n4     28322.0   5.080537  2.276162   1.700370   2.833161   4.840320   \n",
       "n5     28322.0 -32.641183  0.241453 -33.167589 -32.862207 -32.577026   \n",
       "n6     28322.0   0.015014  0.006550   0.000584   0.009195   0.016053   \n",
       "n7     28322.0  -9.107429  0.205200  -9.517986  -9.258473  -9.174557   \n",
       "n8     28322.0   1.612428  0.173560   1.178469   1.489924   1.537263   \n",
       "n9     28322.0   5.232644  2.179705   2.508858   3.464229   4.461770   \n",
       "n10    28322.0   6.115109  2.474138   1.173465   4.414671   5.317154   \n",
       "n11    28322.0   1.699553  0.115150   1.500006   1.600056   1.698556   \n",
       "n12    28322.0   0.009992  0.099462   0.000000   0.000000   0.000000   \n",
       "n13    28322.0   0.089506  0.285478   0.000000   0.000000   0.000000   \n",
       "n14    28322.0   0.497570  0.289207   0.000101   0.247801   0.495255   \n",
       "n15    28322.0   2.997740  2.007611   0.000000   1.000000   3.000000   \n",
       "label  28322.0   0.168067  0.373933   0.000000   0.000000   0.000000   \n",
       "\n",
       "             75%        max  \n",
       "s13     1.000000   1.000000  \n",
       "s48     1.000000   1.000000  \n",
       "s56          NaN        NaN  \n",
       "s57          NaN        NaN  \n",
       "s59          NaN        NaN  \n",
       "n1     14.432580  20.882733  \n",
       "n2      2.194510   3.137331  \n",
       "n3      6.000000   9.000000  \n",
       "n4      7.300738   8.594620  \n",
       "n5    -32.396733 -32.289180  \n",
       "n6      0.018771   0.029992  \n",
       "n7     -8.964786  -8.586583  \n",
       "n8      1.730249   2.173593  \n",
       "n9      6.524341  11.214870  \n",
       "n10     7.027610  12.029135  \n",
       "n11     1.799238   1.899995  \n",
       "n12     0.000000   1.000000  \n",
       "n13     0.000000   1.000000  \n",
       "n14     0.748786   0.999990  \n",
       "n15     5.000000   6.000000  \n",
       "label   0.000000   1.000000  "
      ]
     },
     "execution_count": 256,
     "metadata": {},
     "output_type": "execute_result"
    }
   ],
   "source": [
    "#Statistical Description of data\n",
    "data.describe().T"
   ]
  },
  {
   "cell_type": "code",
   "execution_count": 257,
   "metadata": {},
   "outputs": [
    {
     "data": {
      "text/plain": [
       "s59       100.000000\n",
       "s57       100.000000\n",
       "s56       100.000000\n",
       "s54        90.720994\n",
       "s55        88.680178\n",
       "id          0.000000\n",
       "n2          0.000000\n",
       "n4          0.000000\n",
       "n5          0.000000\n",
       "n6          0.000000\n",
       "n7          0.000000\n",
       "n8          0.000000\n",
       "n9          0.000000\n",
       "n10         0.000000\n",
       "n11         0.000000\n",
       "n12         0.000000\n",
       "n13         0.000000\n",
       "n14         0.000000\n",
       "n15         0.000000\n",
       "n3          0.000000\n",
       "s70         0.000000\n",
       "n1          0.000000\n",
       "s71         0.000000\n",
       "gender      0.000000\n",
       "s69         0.000000\n",
       "s58         0.000000\n",
       "s53         0.000000\n",
       "s52         0.000000\n",
       "s48         0.000000\n",
       "s18         0.000000\n",
       "s17         0.000000\n",
       "s16         0.000000\n",
       "s13         0.000000\n",
       "s12         0.000000\n",
       "s11         0.000000\n",
       "label       0.000000\n",
       "dtype: float64"
      ]
     },
     "execution_count": 257,
     "metadata": {},
     "output_type": "execute_result"
    }
   ],
   "source": [
    "#Null data calculating in persentage\n",
    "(data.isnull().sum().sort_values(ascending=False)/len(data))*100"
   ]
  },
  {
   "cell_type": "code",
   "execution_count": 258,
   "metadata": {},
   "outputs": [],
   "source": [
    "#The columns which are unnecessary\n",
    "droping_columns = ['s59', 's56', 's57', 's54', 's55', 's53', 's69', 's52']"
   ]
  },
  {
   "cell_type": "code",
   "execution_count": 259,
   "metadata": {},
   "outputs": [],
   "source": [
    "#Drop and Fill the null  value into  0\n",
    "data = data.drop(axis=1, columns=droping_columns)\n",
    "data = data.fillna(0).copy()"
   ]
  },
  {
   "cell_type": "code",
   "execution_count": 260,
   "metadata": {},
   "outputs": [
    {
     "name": "stdout",
     "output_type": "stream",
     "text": [
      "<class 'pandas.core.frame.DataFrame'>\n",
      "RangeIndex: 28322 entries, 0 to 28321\n",
      "Data columns (total 28 columns):\n",
      " #   Column  Non-Null Count  Dtype  \n",
      "---  ------  --------------  -----  \n",
      " 0   id      28322 non-null  object \n",
      " 1   gender  28322 non-null  object \n",
      " 2   s11     28322 non-null  object \n",
      " 3   s12     28322 non-null  object \n",
      " 4   s13     28322 non-null  int64  \n",
      " 5   s16     28322 non-null  object \n",
      " 6   s17     28322 non-null  object \n",
      " 7   s18     28322 non-null  object \n",
      " 8   s48     28322 non-null  int64  \n",
      " 9   s58     28322 non-null  object \n",
      " 10  s70     28322 non-null  object \n",
      " 11  s71     28322 non-null  object \n",
      " 12  n1      28322 non-null  float64\n",
      " 13  n2      28322 non-null  float64\n",
      " 14  n3      28322 non-null  int64  \n",
      " 15  n4      28322 non-null  float64\n",
      " 16  n5      28322 non-null  float64\n",
      " 17  n6      28322 non-null  float64\n",
      " 18  n7      28322 non-null  float64\n",
      " 19  n8      28322 non-null  float64\n",
      " 20  n9      28322 non-null  float64\n",
      " 21  n10     28322 non-null  float64\n",
      " 22  n11     28322 non-null  float64\n",
      " 23  n12     28322 non-null  int64  \n",
      " 24  n13     28322 non-null  int64  \n",
      " 25  n14     28322 non-null  float64\n",
      " 26  n15     28322 non-null  int64  \n",
      " 27  label   28322 non-null  int64  \n",
      "dtypes: float64(11), int64(7), object(10)\n",
      "memory usage: 6.1+ MB\n"
     ]
    }
   ],
   "source": [
    "data.info()"
   ]
  },
  {
   "cell_type": "code",
   "execution_count": 261,
   "metadata": {},
   "outputs": [
    {
     "data": {
      "text/html": [
       "<div>\n",
       "<style scoped>\n",
       "    .dataframe tbody tr th:only-of-type {\n",
       "        vertical-align: middle;\n",
       "    }\n",
       "\n",
       "    .dataframe tbody tr th {\n",
       "        vertical-align: top;\n",
       "    }\n",
       "\n",
       "    .dataframe thead th {\n",
       "        text-align: right;\n",
       "    }\n",
       "</style>\n",
       "<table border=\"1\" class=\"dataframe\">\n",
       "  <thead>\n",
       "    <tr style=\"text-align: right;\">\n",
       "      <th></th>\n",
       "      <th>count</th>\n",
       "      <th>mean</th>\n",
       "      <th>std</th>\n",
       "      <th>min</th>\n",
       "      <th>25%</th>\n",
       "      <th>50%</th>\n",
       "      <th>75%</th>\n",
       "      <th>max</th>\n",
       "    </tr>\n",
       "  </thead>\n",
       "  <tbody>\n",
       "    <tr>\n",
       "      <th>s13</th>\n",
       "      <td>28322.0</td>\n",
       "      <td>0.983123</td>\n",
       "      <td>0.128814</td>\n",
       "      <td>0.000000</td>\n",
       "      <td>1.000000</td>\n",
       "      <td>1.000000</td>\n",
       "      <td>1.000000</td>\n",
       "      <td>1.000000</td>\n",
       "    </tr>\n",
       "    <tr>\n",
       "      <th>s48</th>\n",
       "      <td>28322.0</td>\n",
       "      <td>0.433338</td>\n",
       "      <td>0.495545</td>\n",
       "      <td>0.000000</td>\n",
       "      <td>0.000000</td>\n",
       "      <td>0.000000</td>\n",
       "      <td>1.000000</td>\n",
       "      <td>1.000000</td>\n",
       "    </tr>\n",
       "    <tr>\n",
       "      <th>n1</th>\n",
       "      <td>28322.0</td>\n",
       "      <td>10.201863</td>\n",
       "      <td>4.414660</td>\n",
       "      <td>2.200736</td>\n",
       "      <td>6.592127</td>\n",
       "      <td>9.535961</td>\n",
       "      <td>14.432580</td>\n",
       "      <td>20.882733</td>\n",
       "    </tr>\n",
       "    <tr>\n",
       "      <th>n2</th>\n",
       "      <td>28322.0</td>\n",
       "      <td>1.600111</td>\n",
       "      <td>0.664985</td>\n",
       "      <td>0.311727</td>\n",
       "      <td>1.013540</td>\n",
       "      <td>1.462197</td>\n",
       "      <td>2.194510</td>\n",
       "      <td>3.137331</td>\n",
       "    </tr>\n",
       "    <tr>\n",
       "      <th>n3</th>\n",
       "      <td>28322.0</td>\n",
       "      <td>4.805099</td>\n",
       "      <td>2.199282</td>\n",
       "      <td>0.000000</td>\n",
       "      <td>3.000000</td>\n",
       "      <td>5.000000</td>\n",
       "      <td>6.000000</td>\n",
       "      <td>9.000000</td>\n",
       "    </tr>\n",
       "    <tr>\n",
       "      <th>n4</th>\n",
       "      <td>28322.0</td>\n",
       "      <td>5.080537</td>\n",
       "      <td>2.276162</td>\n",
       "      <td>1.700370</td>\n",
       "      <td>2.833161</td>\n",
       "      <td>4.840320</td>\n",
       "      <td>7.300738</td>\n",
       "      <td>8.594620</td>\n",
       "    </tr>\n",
       "    <tr>\n",
       "      <th>n5</th>\n",
       "      <td>28322.0</td>\n",
       "      <td>-32.641183</td>\n",
       "      <td>0.241453</td>\n",
       "      <td>-33.167589</td>\n",
       "      <td>-32.862207</td>\n",
       "      <td>-32.577026</td>\n",
       "      <td>-32.396733</td>\n",
       "      <td>-32.289180</td>\n",
       "    </tr>\n",
       "    <tr>\n",
       "      <th>n6</th>\n",
       "      <td>28322.0</td>\n",
       "      <td>0.015014</td>\n",
       "      <td>0.006550</td>\n",
       "      <td>0.000584</td>\n",
       "      <td>0.009195</td>\n",
       "      <td>0.016053</td>\n",
       "      <td>0.018771</td>\n",
       "      <td>0.029992</td>\n",
       "    </tr>\n",
       "    <tr>\n",
       "      <th>n7</th>\n",
       "      <td>28322.0</td>\n",
       "      <td>-9.107429</td>\n",
       "      <td>0.205200</td>\n",
       "      <td>-9.517986</td>\n",
       "      <td>-9.258473</td>\n",
       "      <td>-9.174557</td>\n",
       "      <td>-8.964786</td>\n",
       "      <td>-8.586583</td>\n",
       "    </tr>\n",
       "    <tr>\n",
       "      <th>n8</th>\n",
       "      <td>28322.0</td>\n",
       "      <td>1.612428</td>\n",
       "      <td>0.173560</td>\n",
       "      <td>1.178469</td>\n",
       "      <td>1.489924</td>\n",
       "      <td>1.537263</td>\n",
       "      <td>1.730249</td>\n",
       "      <td>2.173593</td>\n",
       "    </tr>\n",
       "    <tr>\n",
       "      <th>n9</th>\n",
       "      <td>28322.0</td>\n",
       "      <td>5.232644</td>\n",
       "      <td>2.179705</td>\n",
       "      <td>2.508858</td>\n",
       "      <td>3.464229</td>\n",
       "      <td>4.461770</td>\n",
       "      <td>6.524341</td>\n",
       "      <td>11.214870</td>\n",
       "    </tr>\n",
       "    <tr>\n",
       "      <th>n10</th>\n",
       "      <td>28322.0</td>\n",
       "      <td>6.115109</td>\n",
       "      <td>2.474138</td>\n",
       "      <td>1.173465</td>\n",
       "      <td>4.414671</td>\n",
       "      <td>5.317154</td>\n",
       "      <td>7.027610</td>\n",
       "      <td>12.029135</td>\n",
       "    </tr>\n",
       "    <tr>\n",
       "      <th>n11</th>\n",
       "      <td>28322.0</td>\n",
       "      <td>1.699553</td>\n",
       "      <td>0.115150</td>\n",
       "      <td>1.500006</td>\n",
       "      <td>1.600056</td>\n",
       "      <td>1.698556</td>\n",
       "      <td>1.799238</td>\n",
       "      <td>1.899995</td>\n",
       "    </tr>\n",
       "    <tr>\n",
       "      <th>n12</th>\n",
       "      <td>28322.0</td>\n",
       "      <td>0.009992</td>\n",
       "      <td>0.099462</td>\n",
       "      <td>0.000000</td>\n",
       "      <td>0.000000</td>\n",
       "      <td>0.000000</td>\n",
       "      <td>0.000000</td>\n",
       "      <td>1.000000</td>\n",
       "    </tr>\n",
       "    <tr>\n",
       "      <th>n13</th>\n",
       "      <td>28322.0</td>\n",
       "      <td>0.089506</td>\n",
       "      <td>0.285478</td>\n",
       "      <td>0.000000</td>\n",
       "      <td>0.000000</td>\n",
       "      <td>0.000000</td>\n",
       "      <td>0.000000</td>\n",
       "      <td>1.000000</td>\n",
       "    </tr>\n",
       "    <tr>\n",
       "      <th>n14</th>\n",
       "      <td>28322.0</td>\n",
       "      <td>0.497570</td>\n",
       "      <td>0.289207</td>\n",
       "      <td>0.000101</td>\n",
       "      <td>0.247801</td>\n",
       "      <td>0.495255</td>\n",
       "      <td>0.748786</td>\n",
       "      <td>0.999990</td>\n",
       "    </tr>\n",
       "    <tr>\n",
       "      <th>n15</th>\n",
       "      <td>28322.0</td>\n",
       "      <td>2.997740</td>\n",
       "      <td>2.007611</td>\n",
       "      <td>0.000000</td>\n",
       "      <td>1.000000</td>\n",
       "      <td>3.000000</td>\n",
       "      <td>5.000000</td>\n",
       "      <td>6.000000</td>\n",
       "    </tr>\n",
       "    <tr>\n",
       "      <th>label</th>\n",
       "      <td>28322.0</td>\n",
       "      <td>0.168067</td>\n",
       "      <td>0.373933</td>\n",
       "      <td>0.000000</td>\n",
       "      <td>0.000000</td>\n",
       "      <td>0.000000</td>\n",
       "      <td>0.000000</td>\n",
       "      <td>1.000000</td>\n",
       "    </tr>\n",
       "  </tbody>\n",
       "</table>\n",
       "</div>"
      ],
      "text/plain": [
       "         count       mean       std        min        25%        50%  \\\n",
       "s13    28322.0   0.983123  0.128814   0.000000   1.000000   1.000000   \n",
       "s48    28322.0   0.433338  0.495545   0.000000   0.000000   0.000000   \n",
       "n1     28322.0  10.201863  4.414660   2.200736   6.592127   9.535961   \n",
       "n2     28322.0   1.600111  0.664985   0.311727   1.013540   1.462197   \n",
       "n3     28322.0   4.805099  2.199282   0.000000   3.000000   5.000000   \n",
       "n4     28322.0   5.080537  2.276162   1.700370   2.833161   4.840320   \n",
       "n5     28322.0 -32.641183  0.241453 -33.167589 -32.862207 -32.577026   \n",
       "n6     28322.0   0.015014  0.006550   0.000584   0.009195   0.016053   \n",
       "n7     28322.0  -9.107429  0.205200  -9.517986  -9.258473  -9.174557   \n",
       "n8     28322.0   1.612428  0.173560   1.178469   1.489924   1.537263   \n",
       "n9     28322.0   5.232644  2.179705   2.508858   3.464229   4.461770   \n",
       "n10    28322.0   6.115109  2.474138   1.173465   4.414671   5.317154   \n",
       "n11    28322.0   1.699553  0.115150   1.500006   1.600056   1.698556   \n",
       "n12    28322.0   0.009992  0.099462   0.000000   0.000000   0.000000   \n",
       "n13    28322.0   0.089506  0.285478   0.000000   0.000000   0.000000   \n",
       "n14    28322.0   0.497570  0.289207   0.000101   0.247801   0.495255   \n",
       "n15    28322.0   2.997740  2.007611   0.000000   1.000000   3.000000   \n",
       "label  28322.0   0.168067  0.373933   0.000000   0.000000   0.000000   \n",
       "\n",
       "             75%        max  \n",
       "s13     1.000000   1.000000  \n",
       "s48     1.000000   1.000000  \n",
       "n1     14.432580  20.882733  \n",
       "n2      2.194510   3.137331  \n",
       "n3      6.000000   9.000000  \n",
       "n4      7.300738   8.594620  \n",
       "n5    -32.396733 -32.289180  \n",
       "n6      0.018771   0.029992  \n",
       "n7     -8.964786  -8.586583  \n",
       "n8      1.730249   2.173593  \n",
       "n9      6.524341  11.214870  \n",
       "n10     7.027610  12.029135  \n",
       "n11     1.799238   1.899995  \n",
       "n12     0.000000   1.000000  \n",
       "n13     0.000000   1.000000  \n",
       "n14     0.748786   0.999990  \n",
       "n15     5.000000   6.000000  \n",
       "label   0.000000   1.000000  "
      ]
     },
     "execution_count": 261,
     "metadata": {},
     "output_type": "execute_result"
    }
   ],
   "source": [
    "#Check the data again by describe\n",
    "data.describe().T"
   ]
  },
  {
   "cell_type": "code",
   "execution_count": 262,
   "metadata": {},
   "outputs": [],
   "source": [
    "#Slicing the features and label\n",
    "x = data.drop(axis=1, columns=['label']).copy()\n",
    "y = data.label.copy()"
   ]
  },
  {
   "cell_type": "code",
   "execution_count": 263,
   "metadata": {},
   "outputs": [],
   "source": [
    "li = []\n",
    "for col in x.columns:\n",
    "    if(len(x[col].unique()) <= 10):\n",
    "        li.append(col)\n",
    "dumming_columns = li\n",
    "\n",
    "li = []\n",
    "for col in x.columns:\n",
    "    if(len(x[col].unique()) >= 10):\n",
    "        li.append(col)\n",
    "quantile_columns = li"
   ]
  },
  {
   "cell_type": "markdown",
   "metadata": {},
   "source": [
    "## Data Visualization"
   ]
  },
  {
   "cell_type": "code",
   "execution_count": 264,
   "metadata": {},
   "outputs": [
    {
     "data": {
      "text/plain": [
       "list[Index(['s13', 's48', 'n1', 'n2', 'n3', 'n4', 'n5', 'n6', 'n7', 'n8', 'n9',\n",
       "       'n10', 'n11', 'n12', 'n13', 'n14', 'n15', 'label'],\n",
       "      dtype='object')]"
      ]
     },
     "execution_count": 264,
     "metadata": {},
     "output_type": "execute_result"
    }
   ],
   "source": [
    "describe_data = data.describe().T\n",
    "list[describe_data.index]"
   ]
  },
  {
   "cell_type": "code",
   "execution_count": 265,
   "metadata": {},
   "outputs": [
    {
     "data": {
      "image/png": "[encoded data removed]",
      "text/plain": [
       "<Figure size 1440x1080 with 8 Axes>"
      ]
     },
     "metadata": {
      "needs_background": "light"
     },
     "output_type": "display_data"
    }
   ],
   "source": [
    "fig , axes = plt.subplots(int(len(describe_data.columns)/4), 4,figsize=(20,15))\n",
    "axes[0, 0].scatter(x=describe_data.index, y=describe_data[describe_data.columns[0]], label=describe_data.columns[0])\n",
    "axes[0, 1].scatter(x=describe_data.index, y=describe_data[describe_data.columns[1]], label=describe_data.columns[1])\n",
    "axes[0, 2].scatter(x=describe_data.index, y=describe_data[describe_data.columns[2]], label=describe_data.columns[2])\n",
    "axes[0, 3].scatter(x=describe_data.index, y=describe_data[describe_data.columns[3]], label=describe_data.columns[3])\n",
    "axes[1, 0].scatter(x=describe_data.index, y=describe_data[describe_data.columns[4]], label=describe_data.columns[4])\n",
    "axes[1, 1].scatter(x=describe_data.index, y=describe_data[describe_data.columns[5]], label=describe_data.columns[5])\n",
    "axes[1, 2].scatter(x=describe_data.index, y=describe_data[describe_data.columns[6]], label=describe_data.columns[6])\n",
    "axes[1, 3].scatter(x=describe_data.index, y=describe_data[describe_data.columns[7]], label=describe_data.columns[7])\n",
    "axes[0, 0].set_ylabel(describe_data.columns[0])\n",
    "axes[0, 1].set_ylabel(describe_data.columns[1])\n",
    "axes[0, 2].set_ylabel(describe_data.columns[2])\n",
    "axes[0, 3].set_ylabel(describe_data.columns[3])\n",
    "axes[1, 0].set_ylabel(describe_data.columns[4])\n",
    "axes[1, 1].set_ylabel(describe_data.columns[5])\n",
    "axes[1, 2].set_ylabel(describe_data.columns[6])\n",
    "axes[1, 3].set_ylabel(describe_data.columns[7])\n",
    "plt.show()\n"
   ]
  },
  {
   "cell_type": "markdown",
   "metadata": {},
   "source": [
    "The above chart depicts the visualization of deviation of different columns in scatter chart. We have use scatter chart because all of the data in this columns are numerical. For showing numberical data it's very useful. From the chart, we observe that mean, std and other characteristics of the data doesn't deviate too much. The visualization shows the difference in different mathematical values in different columns."
   ]
  },
  {
   "cell_type": "code",
   "execution_count": 266,
   "metadata": {},
   "outputs": [
    {
     "data": {
      "image/png": "[encoded data removed]",
      "text/plain": [
       "<Figure size 2160x1800 with 15 Axes>"
      ]
     },
     "metadata": {
      "needs_background": "light"
     },
     "output_type": "display_data"
    }
   ],
   "source": [
    "#the dumming column graphical presentation\n",
    "fig , axes = plt.subplots(int(len(dumming_columns)/3), 3,figsize=(30,25))\n",
    "i = 0\n",
    "j = 0\n",
    "k = 0\n",
    "for j in range(0, int(len(dumming_columns)/3)):\n",
    "    for i in range(0,3):\n",
    "        axes[j, i].hist(x=data[dumming_columns[k]])\n",
    "        axes[j, i].set_ylabel(dumming_columns[k])\n",
    "        k+=1\n",
    "\n",
    "plt.title(\"Dumming Data Visualization\")\n",
    "plt.show()"
   ]
  },
  {
   "cell_type": "markdown",
   "metadata": {},
   "source": [
    "The above char depicts the visualization of the different dummy columns. We can easily identify the difference by using a bar chart. That's why we used bar char to show the object type data. From this chart, we observe that the number of Male is much more than the Female. This chart is giving a lot of information about the difference between different dummy of the dataset."
   ]
  },
  {
   "cell_type": "markdown",
   "metadata": {},
   "source": [
    "## Building Machine Learning Model"
   ]
  },
  {
   "cell_type": "markdown",
   "metadata": {},
   "source": [
    "While representing the given data, we focused more on our machine learning model to show our findings from the given dataset rather than depicting the data using visualization. We tried to depict the whole data by graphing and pointing out the important peaks in graphs. ML model parameters are important to predict the future of a given data. We can predict what the future result will be from an ML model. So, we worked on it to find our parameters and to get the desired result. Thus we tried to make an ML model as accurate as possible according to the given dataset."
   ]
  },
  {
   "cell_type": "code",
   "execution_count": 267,
   "metadata": {},
   "outputs": [],
   "source": [
    "#Functions of mathematical model\n",
    "from xgboost import XGBClassifier\n",
    "\n",
    "\n",
    "#Functions of Evaluation\n",
    "from sklearn.metrics import precision_score, plot_confusion_matrix, f1_score, recall_score\n",
    "from sklearn.model_selection import train_test_split\n",
    "\n",
    "\n",
    "#Multi-variable using sets\n",
    "from sklearn.model_selection import GridSearchCV\n",
    "import optuna\n"
   ]
  },
  {
   "cell_type": "code",
   "execution_count": 286,
   "metadata": {},
   "outputs": [],
   "source": [
    "#Dummy the object/binary columns\n",
    "x_ = pd.get_dummies(x.drop(columns=['id'], axis=1), columns=dumming_columns)\n",
    "#Organizing data for training\n",
    "x_train, x_test, y_train, y_test = train_test_split(x_, y, shuffle=True, test_size=0.25)"
   ]
  },
  {
   "cell_type": "code",
   "execution_count": 287,
   "metadata": {},
   "outputs": [],
   "source": [
    "#Set all mathematical model in variables\n",
    "xgb = XGBClassifier()"
   ]
  },
  {
   "cell_type": "markdown",
   "metadata": {},
   "source": [
    "In this section, we selected a model for our dataset from varieties of models. At first, we checked the scaling condition and then we checked our features and then we sliced the data as our final step towards making an ML model. After that, we called the module which will be needed for making our decided model. At first, we installed optuna on our machine. Then, we imported DecisionTreeClassifier, GradientBoostingClassifier, RandomForestClassifier, AdaBoostClassifier, and XGBClassifier to make our mathematical model.\n",
    "\n",
    "After importing the module we needed, we optimized the model by using the module to find the proper parameter for our ML model. Then we built our model and used cross-validation over the model for accuracy. Then, we reviewed the study over and over again to make our model more accurate with more and more iterations.\n",
    "\n",
    "**We choose xgboost mathematical model. Because, we can use it for gradient decent to compile the data. It has also robust mathematical solving capacity to predict the labels.\n",
    "Here, the chain rule, tree method, output value make the loss function shrinken and predicted value gradually reaches the true value**"
   ]
  },
  {
   "cell_type": "code",
   "execution_count": 270,
   "metadata": {},
   "outputs": [],
   "source": [
    "#A model basically built on the base of the perameter which is taken by the engineer through object\n",
    "#so, we have to search the proper parameters for our model.\n",
    "#here, we use xgboost as classifier. So, we need to set a parameter dictionary and we searching this by\n",
    "#`optuna` module\n",
    "\n",
    "def parameter_setting(): \n",
    "    #Searching the perfect model from different values of perameters\n",
    "    def objective(trial):\n",
    "        parameter_for_xgboost = {\n",
    "        'learning_rate':trial.suggest_float('learning_rate', 1.01, 1.02),\n",
    "        'colsample_bytree':trial.suggest_float('colsample_bytree', 0.5, 1),\n",
    "        'colsample_bylabel':trial.suggest_float('colsample_bylabel', 0.5, 1),\n",
    "        'colsample_bynode':trial.suggest_float('colsample_bynode',0.5, 1),\n",
    "        \"gamma\":trial.suggest_float('gamma', 0.01, 1),\n",
    "        'reg_alpha':trial.suggest_float('reg_alpha', 0.01, 1),\n",
    "        'reg_lambda':trial.suggest_float('reg_lambda', 0.01, 1),\n",
    "        'min_child_weight':trial.suggest_float('min_child_weight', 0.01, 1),\n",
    "        'sketch_eps':trial.suggest_float('sketch_eps', 0, 1),\n",
    "        'max_leaves':trial.suggest_int('max_leaves', 0, 1000),\n",
    "        }\n",
    "        clf = XGBClassifier(**parameter_for_xgboost)\n",
    "\n",
    "        clf.fit(x_train, y_train, early_stopping_rounds=10, eval_set=[(x_test, y_test)], verbose=False)\n",
    "\n",
    "\n",
    "        return clf.score(x_test, y_test)\n",
    "\n",
    "    study = optuna.create_study(direction=\"maximize\")\n",
    "    study.optimize(objective, n_trials=10)\n",
    " \n",
    "    param_study = study.best_params\n",
    "    param= {}\n",
    "    param['learning_rate'] = [param_study['learning_rate']]\n",
    "    param['colsample_bytree'] = [param_study['colsample_bytree']]\n",
    "    param['colsample_bynode'] = [param_study['colsample_bynode']]\n",
    "    param['colsample_bylabel'] = [param_study['colsample_bylabel']]\n",
    "    param['gamma'] = [param_study['gamma']]\n",
    "    param['reg_alpha'] = [param_study['reg_alpha']]\n",
    "    param['reg_lambda'] = [param_study['reg_lambda']]\n",
    "    param['min_child_weight'] = [param_study['min_child_weight']]\n",
    "    param['sketch_eps'] = [param_study['sketch_eps']]\n",
    "    param['max_leaves']=[param_study['max_leaves']]\n",
    "\n",
    "    param['booster'] = ['gbtree']\n",
    "    param['sampling_method'] = ['gradient_based']\n",
    "    param['tree_method'] = ['auto']\n",
    "    param['max_depth'] = [3]\n",
    "    param['eval_metric'] = [f1_score]\n",
    "    param['updater'] = ['grow_local_histmaker']\n",
    "\n",
    "    return param, study\n",
    "    "
   ]
  },
  {
   "cell_type": "code",
   "execution_count": 288,
   "metadata": {},
   "outputs": [
    {
     "name": "stderr",
     "output_type": "stream",
     "text": [
      "\u001b[32m[I 2022-06-11 08:22:25,450]\u001b[0m A new study created in memory with name: no-name-b6818321-b322-4d64-a4cb-5f9d00988adb\u001b[0m\n",
      "C:\\Users\\MIJANUR REHMAN\\AppData\\Roaming\\Python\\Python39\\site-packages\\xgboost\\sklearn.py:793: UserWarning:\n",
      "\n",
      "`early_stopping_rounds` in `fit` method is deprecated for better compatibility with scikit-learn, use `early_stopping_rounds` in constructor or`set_params` instead.\n",
      "\n"
     ]
    },
    {
     "name": "stdout",
     "output_type": "stream",
     "text": [
      "[08:22:25] WARNING: C:/Users/Administrator/workspace/xgboost-win64_release_1.6.0/src/learner.cc:627: \n",
      "Parameters: { \"colsample_bylabel\" } might not be used.\n",
      "\n",
      "  This could be a false alarm, with some parameters getting used by language bindings but\n",
      "  then being mistakenly passed down to XGBoost core, or some parameter actually being used\n",
      "  but getting flagged wrongly here. Please open an issue if you find any such cases.\n",
      "\n",
      "\n"
     ]
    },
    {
     "name": "stderr",
     "output_type": "stream",
     "text": [
      "\u001b[32m[I 2022-06-11 08:22:25,881]\u001b[0m Trial 0 finished with value: 0.8673916113543285 and parameters: {'learning_rate': 1.0182592494465605, 'colsample_bytree': 0.9632185132720583, 'colsample_bylabel': 0.7877878212693974, 'colsample_bynode': 0.7896703585771294, 'gamma': 0.7738643979194068, 'reg_alpha': 0.86719981412747, 'reg_lambda': 0.7415810486529513, 'min_child_weight': 0.2941923389086007, 'sketch_eps': 0.06923129471883116, 'max_leaves': 224}. Best is trial 0 with value: 0.8673916113543285.\u001b[0m\n",
      "C:\\Users\\MIJANUR REHMAN\\AppData\\Roaming\\Python\\Python39\\site-packages\\xgboost\\sklearn.py:793: UserWarning:\n",
      "\n",
      "`early_stopping_rounds` in `fit` method is deprecated for better compatibility with scikit-learn, use `early_stopping_rounds` in constructor or`set_params` instead.\n",
      "\n"
     ]
    },
    {
     "name": "stdout",
     "output_type": "stream",
     "text": [
      "[08:22:25] WARNING: C:/Users/Administrator/workspace/xgboost-win64_release_1.6.0/src/learner.cc:627: \n",
      "Parameters: { \"colsample_bylabel\" } might not be used.\n",
      "\n",
      "  This could be a false alarm, with some parameters getting used by language bindings but\n",
      "  then being mistakenly passed down to XGBoost core, or some parameter actually being used\n",
      "  but getting flagged wrongly here. Please open an issue if you find any such cases.\n",
      "\n",
      "\n"
     ]
    },
    {
     "name": "stderr",
     "output_type": "stream",
     "text": [
      "\u001b[32m[I 2022-06-11 08:22:26,227]\u001b[0m Trial 1 finished with value: 0.8733229769806524 and parameters: {'learning_rate': 1.0118518295202001, 'colsample_bytree': 0.8939871792577353, 'colsample_bylabel': 0.8603722688219418, 'colsample_bynode': 0.5963247474426072, 'gamma': 0.9433171429114277, 'reg_alpha': 0.9905759251543479, 'reg_lambda': 0.35225568198284785, 'min_child_weight': 0.7654946230674274, 'sketch_eps': 0.4270552021085475, 'max_leaves': 65}. Best is trial 1 with value: 0.8733229769806524.\u001b[0m\n",
      "C:\\Users\\MIJANUR REHMAN\\AppData\\Roaming\\Python\\Python39\\site-packages\\xgboost\\sklearn.py:793: UserWarning:\n",
      "\n",
      "`early_stopping_rounds` in `fit` method is deprecated for better compatibility with scikit-learn, use `early_stopping_rounds` in constructor or`set_params` instead.\n",
      "\n"
     ]
    },
    {
     "name": "stdout",
     "output_type": "stream",
     "text": [
      "[08:22:26] WARNING: C:/Users/Administrator/workspace/xgboost-win64_release_1.6.0/src/learner.cc:627: \n",
      "Parameters: { \"colsample_bylabel\" } might not be used.\n",
      "\n",
      "  This could be a false alarm, with some parameters getting used by language bindings but\n",
      "  then being mistakenly passed down to XGBoost core, or some parameter actually being used\n",
      "  but getting flagged wrongly here. Please open an issue if you find any such cases.\n",
      "\n",
      "\n"
     ]
    },
    {
     "name": "stderr",
     "output_type": "stream",
     "text": [
      "\u001b[32m[I 2022-06-11 08:22:26,564]\u001b[0m Trial 2 finished with value: 0.8736054229628584 and parameters: {'learning_rate': 1.0159768454524973, 'colsample_bytree': 0.5583970553846666, 'colsample_bylabel': 0.9412462296703653, 'colsample_bynode': 0.503614568045001, 'gamma': 0.7277556270443883, 'reg_alpha': 0.9437127226314465, 'reg_lambda': 0.6125913380463571, 'min_child_weight': 0.07353764062885808, 'sketch_eps': 0.49927281684431, 'max_leaves': 778}. Best is trial 2 with value: 0.8736054229628584.\u001b[0m\n",
      "C:\\Users\\MIJANUR REHMAN\\AppData\\Roaming\\Python\\Python39\\site-packages\\xgboost\\sklearn.py:793: UserWarning:\n",
      "\n",
      "`early_stopping_rounds` in `fit` method is deprecated for better compatibility with scikit-learn, use `early_stopping_rounds` in constructor or`set_params` instead.\n",
      "\n"
     ]
    },
    {
     "name": "stdout",
     "output_type": "stream",
     "text": [
      "[08:22:26] WARNING: C:/Users/Administrator/workspace/xgboost-win64_release_1.6.0/src/learner.cc:627: \n",
      "Parameters: { \"colsample_bylabel\" } might not be used.\n",
      "\n",
      "  This could be a false alarm, with some parameters getting used by language bindings but\n",
      "  then being mistakenly passed down to XGBoost core, or some parameter actually being used\n",
      "  but getting flagged wrongly here. Please open an issue if you find any such cases.\n",
      "\n",
      "\n"
     ]
    },
    {
     "name": "stderr",
     "output_type": "stream",
     "text": [
      "\u001b[32m[I 2022-06-11 08:22:26,949]\u001b[0m Trial 3 finished with value: 0.8617426917102105 and parameters: {'learning_rate': 1.012031769211804, 'colsample_bytree': 0.7401316014576342, 'colsample_bylabel': 0.9339505525449475, 'colsample_bynode': 0.8904450361293712, 'gamma': 0.42552769956847314, 'reg_alpha': 0.1275074288133035, 'reg_lambda': 0.40629451389793836, 'min_child_weight': 0.16728258547185196, 'sketch_eps': 0.9269868817306741, 'max_leaves': 732}. Best is trial 2 with value: 0.8736054229628584.\u001b[0m\n",
      "C:\\Users\\MIJANUR REHMAN\\AppData\\Roaming\\Python\\Python39\\site-packages\\xgboost\\sklearn.py:793: UserWarning:\n",
      "\n",
      "`early_stopping_rounds` in `fit` method is deprecated for better compatibility with scikit-learn, use `early_stopping_rounds` in constructor or`set_params` instead.\n",
      "\n"
     ]
    },
    {
     "name": "stdout",
     "output_type": "stream",
     "text": [
      "[08:22:27] WARNING: C:/Users/Administrator/workspace/xgboost-win64_release_1.6.0/src/learner.cc:627: \n",
      "Parameters: { \"colsample_bylabel\" } might not be used.\n",
      "\n",
      "  This could be a false alarm, with some parameters getting used by language bindings but\n",
      "  then being mistakenly passed down to XGBoost core, or some parameter actually being used\n",
      "  but getting flagged wrongly here. Please open an issue if you find any such cases.\n",
      "\n",
      "\n"
     ]
    },
    {
     "name": "stderr",
     "output_type": "stream",
     "text": [
      "\u001b[32m[I 2022-06-11 08:22:27,363]\u001b[0m Trial 4 finished with value: 0.8662618274255048 and parameters: {'learning_rate': 1.013484954882578, 'colsample_bytree': 0.9296863177107415, 'colsample_bylabel': 0.7220381153872084, 'colsample_bynode': 0.960589842033703, 'gamma': 0.29352239830673793, 'reg_alpha': 0.2019695158619036, 'reg_lambda': 0.9370171500773327, 'min_child_weight': 0.3369774400652289, 'sketch_eps': 0.8929209040823466, 'max_leaves': 983}. Best is trial 2 with value: 0.8736054229628584.\u001b[0m\n",
      "C:\\Users\\MIJANUR REHMAN\\AppData\\Roaming\\Python\\Python39\\site-packages\\xgboost\\sklearn.py:793: UserWarning:\n",
      "\n",
      "`early_stopping_rounds` in `fit` method is deprecated for better compatibility with scikit-learn, use `early_stopping_rounds` in constructor or`set_params` instead.\n",
      "\n"
     ]
    },
    {
     "name": "stdout",
     "output_type": "stream",
     "text": [
      "[08:22:27] WARNING: C:/Users/Administrator/workspace/xgboost-win64_release_1.6.0/src/learner.cc:627: \n",
      "Parameters: { \"colsample_bylabel\" } might not be used.\n",
      "\n",
      "  This could be a false alarm, with some parameters getting used by language bindings but\n",
      "  then being mistakenly passed down to XGBoost core, or some parameter actually being used\n",
      "  but getting flagged wrongly here. Please open an issue if you find any such cases.\n",
      "\n",
      "\n"
     ]
    },
    {
     "name": "stderr",
     "output_type": "stream",
     "text": [
      "\u001b[32m[I 2022-06-11 08:22:27,721]\u001b[0m Trial 5 finished with value: 0.8706397401496964 and parameters: {'learning_rate': 1.0188246812218413, 'colsample_bytree': 0.9931203908859555, 'colsample_bylabel': 0.5905076181773413, 'colsample_bynode': 0.844123608034024, 'gamma': 0.83389544766064, 'reg_alpha': 0.6093718246040102, 'reg_lambda': 0.3371477620042554, 'min_child_weight': 0.5673356856693436, 'sketch_eps': 0.12043581383781088, 'max_leaves': 92}. Best is trial 2 with value: 0.8736054229628584.\u001b[0m\n",
      "C:\\Users\\MIJANUR REHMAN\\AppData\\Roaming\\Python\\Python39\\site-packages\\xgboost\\sklearn.py:793: UserWarning:\n",
      "\n",
      "`early_stopping_rounds` in `fit` method is deprecated for better compatibility with scikit-learn, use `early_stopping_rounds` in constructor or`set_params` instead.\n",
      "\n",
      "\u001b[32m[I 2022-06-11 08:22:27,977]\u001b[0m Trial 6 finished with value: 0.8696511792119757 and parameters: {'learning_rate': 1.0174435713908858, 'colsample_bytree': 0.581646742708479, 'colsample_bylabel': 0.7705506268414586, 'colsample_bynode': 0.5468350808318883, 'gamma': 0.326869047076874, 'reg_alpha': 0.8664281083974087, 'reg_lambda': 0.27298751950813066, 'min_child_weight': 0.4143347556334254, 'sketch_eps': 0.4558480193043969, 'max_leaves': 392}. Best is trial 2 with value: 0.8736054229628584.\u001b[0m\n"
     ]
    },
    {
     "name": "stdout",
     "output_type": "stream",
     "text": [
      "[08:22:27] WARNING: C:/Users/Administrator/workspace/xgboost-win64_release_1.6.0/src/learner.cc:627: \n",
      "Parameters: { \"colsample_bylabel\" } might not be used.\n",
      "\n",
      "  This could be a false alarm, with some parameters getting used by language bindings but\n",
      "  then being mistakenly passed down to XGBoost core, or some parameter actually being used\n",
      "  but getting flagged wrongly here. Please open an issue if you find any such cases.\n",
      "\n",
      "\n"
     ]
    },
    {
     "name": "stderr",
     "output_type": "stream",
     "text": [
      "C:\\Users\\MIJANUR REHMAN\\AppData\\Roaming\\Python\\Python39\\site-packages\\xgboost\\sklearn.py:793: UserWarning:\n",
      "\n",
      "`early_stopping_rounds` in `fit` method is deprecated for better compatibility with scikit-learn, use `early_stopping_rounds` in constructor or`set_params` instead.\n",
      "\n"
     ]
    },
    {
     "name": "stdout",
     "output_type": "stream",
     "text": [
      "[08:22:28] WARNING: C:/Users/Administrator/workspace/xgboost-win64_release_1.6.0/src/learner.cc:627: \n",
      "Parameters: { \"colsample_bylabel\" } might not be used.\n",
      "\n",
      "  This could be a false alarm, with some parameters getting used by language bindings but\n",
      "  then being mistakenly passed down to XGBoost core, or some parameter actually being used\n",
      "  but getting flagged wrongly here. Please open an issue if you find any such cases.\n",
      "\n",
      "\n"
     ]
    },
    {
     "name": "stderr",
     "output_type": "stream",
     "text": [
      "\u001b[32m[I 2022-06-11 08:22:28,334]\u001b[0m Trial 7 finished with value: 0.8669679423810196 and parameters: {'learning_rate': 1.0179137947159582, 'colsample_bytree': 0.8809155314362827, 'colsample_bylabel': 0.686875248412603, 'colsample_bynode': 0.8667043352060196, 'gamma': 0.9016476491604694, 'reg_alpha': 0.5006350347442668, 'reg_lambda': 0.6251979734905834, 'min_child_weight': 0.812219779400787, 'sketch_eps': 0.5745394336023685, 'max_leaves': 225}. Best is trial 2 with value: 0.8736054229628584.\u001b[0m\n",
      "C:\\Users\\MIJANUR REHMAN\\AppData\\Roaming\\Python\\Python39\\site-packages\\xgboost\\sklearn.py:793: UserWarning:\n",
      "\n",
      "`early_stopping_rounds` in `fit` method is deprecated for better compatibility with scikit-learn, use `early_stopping_rounds` in constructor or`set_params` instead.\n",
      "\n"
     ]
    },
    {
     "name": "stdout",
     "output_type": "stream",
     "text": [
      "[08:22:28] WARNING: C:/Users/Administrator/workspace/xgboost-win64_release_1.6.0/src/learner.cc:627: \n",
      "Parameters: { \"colsample_bylabel\" } might not be used.\n",
      "\n",
      "  This could be a false alarm, with some parameters getting used by language bindings but\n",
      "  then being mistakenly passed down to XGBoost core, or some parameter actually being used\n",
      "  but getting flagged wrongly here. Please open an issue if you find any such cases.\n",
      "\n",
      "\n"
     ]
    },
    {
     "name": "stderr",
     "output_type": "stream",
     "text": [
      "\u001b[32m[I 2022-06-11 08:22:28,652]\u001b[0m Trial 8 finished with value: 0.865696935461093 and parameters: {'learning_rate': 1.0178331529493896, 'colsample_bytree': 0.6936230854001935, 'colsample_bylabel': 0.7112344236490613, 'colsample_bynode': 0.8407222546506898, 'gamma': 0.06568301108247404, 'reg_alpha': 0.15303085845945683, 'reg_lambda': 0.2052631685969364, 'min_child_weight': 0.33348998373497685, 'sketch_eps': 0.1751133822662363, 'max_leaves': 588}. Best is trial 2 with value: 0.8736054229628584.\u001b[0m\n",
      "C:\\Users\\MIJANUR REHMAN\\AppData\\Roaming\\Python\\Python39\\site-packages\\xgboost\\sklearn.py:793: UserWarning:\n",
      "\n",
      "`early_stopping_rounds` in `fit` method is deprecated for better compatibility with scikit-learn, use `early_stopping_rounds` in constructor or`set_params` instead.\n",
      "\n"
     ]
    },
    {
     "name": "stdout",
     "output_type": "stream",
     "text": [
      "[08:22:28] WARNING: C:/Users/Administrator/workspace/xgboost-win64_release_1.6.0/src/learner.cc:627: \n",
      "Parameters: { \"colsample_bylabel\" } might not be used.\n",
      "\n",
      "  This could be a false alarm, with some parameters getting used by language bindings but\n",
      "  then being mistakenly passed down to XGBoost core, or some parameter actually being used\n",
      "  but getting flagged wrongly here. Please open an issue if you find any such cases.\n",
      "\n",
      "\n"
     ]
    },
    {
     "name": "stderr",
     "output_type": "stream",
     "text": [
      "\u001b[32m[I 2022-06-11 08:22:28,936]\u001b[0m Trial 9 finished with value: 0.8654144894788872 and parameters: {'learning_rate': 1.0119626280838545, 'colsample_bytree': 0.5235280547042329, 'colsample_bylabel': 0.8232266510619662, 'colsample_bynode': 0.9200416725424361, 'gamma': 0.31283030355472, 'reg_alpha': 0.03705246896607601, 'reg_lambda': 0.06068010045179501, 'min_child_weight': 0.12050842588061349, 'sketch_eps': 0.3937411045893452, 'max_leaves': 884}. Best is trial 2 with value: 0.8736054229628584.\u001b[0m\n"
     ]
    }
   ],
   "source": [
    "param, study = parameter_setting()#Run the function for searching best parameters"
   ]
  },
  {
   "cell_type": "markdown",
   "metadata": {},
   "source": [
    "Visualization of Parameters"
   ]
  },
  {
   "cell_type": "code",
   "execution_count": 272,
   "metadata": {},
   "outputs": [
    {
     "data": {
      "application/vnd.plotly.v1+json": {
       "config": {
        "plotlyServerURL": "https://plot.ly"
       },
       "data": [
        {
         "mode": "markers",
         "name": "Objective Value",
         "type": "scatter",
         "x": [
          0,
          1,
          2,
          3,
          4,
          5,
          6,
          7,
          8,
          9
         ],
         "y": [
          0.8706397401496964,
          0.8728993080073436,
          0.8728993080073436,
          0.8765711057760204,
          0.8717695240785199,
          0.8748764298827849,
          0.8662618274255048,
          0.8740290919361672,
          0.8697924022030786,
          0.8731817539895494
         ]
        },
        {
         "name": "Best Value",
         "type": "scatter",
         "x": [
          0,
          1,
          2,
          3,
          4,
          5,
          6,
          7,
          8,
          9
         ],
         "y": [
          0.8706397401496964,
          0.8728993080073436,
          0.8728993080073436,
          0.8765711057760204,
          0.8765711057760204,
          0.8765711057760204,
          0.8765711057760204,
          0.8765711057760204,
          0.8765711057760204,
          0.8765711057760204
         ]
        }
       ],
       "layout": {
        "template": {
         "data": {
          "bar": [
           {
            "error_x": {
             "color": "#2a3f5f"
            },
            "error_y": {
             "color": "#2a3f5f"
            },
            "marker": {
             "line": {
              "color": "#E5ECF6",
              "width": 0.5
             },
             "pattern": {
              "fillmode": "overlay",
              "size": 10,
              "solidity": 0.2
             }
            },
            "type": "bar"
           }
          ],
          "barpolar": [
           {
            "marker": {
             "line": {
              "color": "#E5ECF6",
              "width": 0.5
             },
             "pattern": {
              "fillmode": "overlay",
              "size": 10,
              "solidity": 0.2
             }
            },
            "type": "barpolar"
           }
          ],
          "carpet": [
           {
            "aaxis": {
             "endlinecolor": "#2a3f5f",
             "gridcolor": "white",
             "linecolor": "white",
             "minorgridcolor": "white",
             "startlinecolor": "#2a3f5f"
            },
            "baxis": {
             "endlinecolor": "#2a3f5f",
             "gridcolor": "white",
             "linecolor": "white",
             "minorgridcolor": "white",
             "startlinecolor": "#2a3f5f"
            },
            "type": "carpet"
           }
          ],
          "choropleth": [
           {
            "colorbar": {
             "outlinewidth": 0,
             "ticks": ""
            },
            "type": "choropleth"
           }
          ],
          "contour": [
           {
            "colorbar": {
             "outlinewidth": 0,
             "ticks": ""
            },
            "colorscale": [
             [
              0,
              "#0d0887"
             ],
             [
              0.1111111111111111,
              "#46039f"
             ],
             [
              0.2222222222222222,
              "#7201a8"
             ],
             [
              0.3333333333333333,
              "#9c179e"
             ],
             [
              0.4444444444444444,
              "#bd3786"
             ],
             [
              0.5555555555555556,
              "#d8576b"
             ],
             [
              0.6666666666666666,
              "#ed7953"
             ],
             [
              0.7777777777777778,
              "#fb9f3a"
             ],
             [
              0.8888888888888888,
              "#fdca26"
             ],
             [
              1,
              "#f0f921"
             ]
            ],
            "type": "contour"
           }
          ],
          "contourcarpet": [
           {
            "colorbar": {
             "outlinewidth": 0,
             "ticks": ""
            },
            "type": "contourcarpet"
           }
          ],
          "heatmap": [
           {
            "colorbar": {
             "outlinewidth": 0,
             "ticks": ""
            },
            "colorscale": [
             [
              0,
              "#0d0887"
             ],
             [
              0.1111111111111111,
              "#46039f"
             ],
             [
              0.2222222222222222,
              "#7201a8"
             ],
             [
              0.3333333333333333,
              "#9c179e"
             ],
             [
              0.4444444444444444,
              "#bd3786"
             ],
             [
              0.5555555555555556,
              "#d8576b"
             ],
             [
              0.6666666666666666,
              "#ed7953"
             ],
             [
              0.7777777777777778,
              "#fb9f3a"
             ],
             [
              0.8888888888888888,
              "#fdca26"
             ],
             [
              1,
              "#f0f921"
             ]
            ],
            "type": "heatmap"
           }
          ],
          "heatmapgl": [
           {
            "colorbar": {
             "outlinewidth": 0,
             "ticks": ""
            },
            "colorscale": [
             [
              0,
              "#0d0887"
             ],
             [
              0.1111111111111111,
              "#46039f"
             ],
             [
              0.2222222222222222,
              "#7201a8"
             ],
             [
              0.3333333333333333,
              "#9c179e"
             ],
             [
              0.4444444444444444,
              "#bd3786"
             ],
             [
              0.5555555555555556,
              "#d8576b"
             ],
             [
              0.6666666666666666,
              "#ed7953"
             ],
             [
              0.7777777777777778,
              "#fb9f3a"
             ],
             [
              0.8888888888888888,
              "#fdca26"
             ],
             [
              1,
              "#f0f921"
             ]
            ],
            "type": "heatmapgl"
           }
          ],
          "histogram": [
           {
            "marker": {
             "pattern": {
              "fillmode": "overlay",
              "size": 10,
              "solidity": 0.2
             }
            },
            "type": "histogram"
           }
          ],
          "histogram2d": [
           {
            "colorbar": {
             "outlinewidth": 0,
             "ticks": ""
            },
            "colorscale": [
             [
              0,
              "#0d0887"
             ],
             [
              0.1111111111111111,
              "#46039f"
             ],
             [
              0.2222222222222222,
              "#7201a8"
             ],
             [
              0.3333333333333333,
              "#9c179e"
             ],
             [
              0.4444444444444444,
              "#bd3786"
             ],
             [
              0.5555555555555556,
              "#d8576b"
             ],
             [
              0.6666666666666666,
              "#ed7953"
             ],
             [
              0.7777777777777778,
              "#fb9f3a"
             ],
             [
              0.8888888888888888,
              "#fdca26"
             ],
             [
              1,
              "#f0f921"
             ]
            ],
            "type": "histogram2d"
           }
          ],
          "histogram2dcontour": [
           {
            "colorbar": {
             "outlinewidth": 0,
             "ticks": ""
            },
            "colorscale": [
             [
              0,
              "#0d0887"
             ],
             [
              0.1111111111111111,
              "#46039f"
             ],
             [
              0.2222222222222222,
              "#7201a8"
             ],
             [
              0.3333333333333333,
              "#9c179e"
             ],
             [
              0.4444444444444444,
              "#bd3786"
             ],
             [
              0.5555555555555556,
              "#d8576b"
             ],
             [
              0.6666666666666666,
              "#ed7953"
             ],
             [
              0.7777777777777778,
              "#fb9f3a"
             ],
             [
              0.8888888888888888,
              "#fdca26"
             ],
             [
              1,
              "#f0f921"
             ]
            ],
            "type": "histogram2dcontour"
           }
          ],
          "mesh3d": [
           {
            "colorbar": {
             "outlinewidth": 0,
             "ticks": ""
            },
            "type": "mesh3d"
           }
          ],
          "parcoords": [
           {
            "line": {
             "colorbar": {
              "outlinewidth": 0,
              "ticks": ""
             }
            },
            "type": "parcoords"
           }
          ],
          "pie": [
           {
            "automargin": true,
            "type": "pie"
           }
          ],
          "scatter": [
           {
            "fillpattern": {
             "fillmode": "overlay",
             "size": 10,
             "solidity": 0.2
            },
            "type": "scatter"
           }
          ],
          "scatter3d": [
           {
            "line": {
             "colorbar": {
              "outlinewidth": 0,
              "ticks": ""
             }
            },
            "marker": {
             "colorbar": {
              "outlinewidth": 0,
              "ticks": ""
             }
            },
            "type": "scatter3d"
           }
          ],
          "scattercarpet": [
           {
            "marker": {
             "colorbar": {
              "outlinewidth": 0,
              "ticks": ""
             }
            },
            "type": "scattercarpet"
           }
          ],
          "scattergeo": [
           {
            "marker": {
             "colorbar": {
              "outlinewidth": 0,
              "ticks": ""
             }
            },
            "type": "scattergeo"
           }
          ],
          "scattergl": [
           {
            "marker": {
             "colorbar": {
              "outlinewidth": 0,
              "ticks": ""
             }
            },
            "type": "scattergl"
           }
          ],
          "scattermapbox": [
           {
            "marker": {
             "colorbar": {
              "outlinewidth": 0,
              "ticks": ""
             }
            },
            "type": "scattermapbox"
           }
          ],
          "scatterpolar": [
           {
            "marker": {
             "colorbar": {
              "outlinewidth": 0,
              "ticks": ""
             }
            },
            "type": "scatterpolar"
           }
          ],
          "scatterpolargl": [
           {
            "marker": {
             "colorbar": {
              "outlinewidth": 0,
              "ticks": ""
             }
            },
            "type": "scatterpolargl"
           }
          ],
          "scatterternary": [
           {
            "marker": {
             "colorbar": {
              "outlinewidth": 0,
              "ticks": ""
             }
            },
            "type": "scatterternary"
           }
          ],
          "surface": [
           {
            "colorbar": {
             "outlinewidth": 0,
             "ticks": ""
            },
            "colorscale": [
             [
              0,
              "#0d0887"
             ],
             [
              0.1111111111111111,
              "#46039f"
             ],
             [
              0.2222222222222222,
              "#7201a8"
             ],
             [
              0.3333333333333333,
              "#9c179e"
             ],
             [
              0.4444444444444444,
              "#bd3786"
             ],
             [
              0.5555555555555556,
              "#d8576b"
             ],
             [
              0.6666666666666666,
              "#ed7953"
             ],
             [
              0.7777777777777778,
              "#fb9f3a"
             ],
             [
              0.8888888888888888,
              "#fdca26"
             ],
             [
              1,
              "#f0f921"
             ]
            ],
            "type": "surface"
           }
          ],
          "table": [
           {
            "cells": {
             "fill": {
              "color": "#EBF0F8"
             },
             "line": {
              "color": "white"
             }
            },
            "header": {
             "fill": {
              "color": "#C8D4E3"
             },
             "line": {
              "color": "white"
             }
            },
            "type": "table"
           }
          ]
         },
         "layout": {
          "annotationdefaults": {
           "arrowcolor": "#2a3f5f",
           "arrowhead": 0,
           "arrowwidth": 1
          },
          "autotypenumbers": "strict",
          "coloraxis": {
           "colorbar": {
            "outlinewidth": 0,
            "ticks": ""
           }
          },
          "colorscale": {
           "diverging": [
            [
             0,
             "#8e0152"
            ],
            [
             0.1,
             "#c51b7d"
            ],
            [
             0.2,
             "#de77ae"
            ],
            [
             0.3,
             "#f1b6da"
            ],
            [
             0.4,
             "#fde0ef"
            ],
            [
             0.5,
             "#f7f7f7"
            ],
            [
             0.6,
             "#e6f5d0"
            ],
            [
             0.7,
             "#b8e186"
            ],
            [
             0.8,
             "#7fbc41"
            ],
            [
             0.9,
             "#4d9221"
            ],
            [
             1,
             "#276419"
            ]
           ],
           "sequential": [
            [
             0,
             "#0d0887"
            ],
            [
             0.1111111111111111,
             "#46039f"
            ],
            [
             0.2222222222222222,
             "#7201a8"
            ],
            [
             0.3333333333333333,
             "#9c179e"
            ],
            [
             0.4444444444444444,
             "#bd3786"
            ],
            [
             0.5555555555555556,
             "#d8576b"
            ],
            [
             0.6666666666666666,
             "#ed7953"
            ],
            [
             0.7777777777777778,
             "#fb9f3a"
            ],
            [
             0.8888888888888888,
             "#fdca26"
            ],
            [
             1,
             "#f0f921"
            ]
           ],
           "sequentialminus": [
            [
             0,
             "#0d0887"
            ],
            [
             0.1111111111111111,
             "#46039f"
            ],
            [
             0.2222222222222222,
             "#7201a8"
            ],
            [
             0.3333333333333333,
             "#9c179e"
            ],
            [
             0.4444444444444444,
             "#bd3786"
            ],
            [
             0.5555555555555556,
             "#d8576b"
            ],
            [
             0.6666666666666666,
             "#ed7953"
            ],
            [
             0.7777777777777778,
             "#fb9f3a"
            ],
            [
             0.8888888888888888,
             "#fdca26"
            ],
            [
             1,
             "#f0f921"
            ]
           ]
          },
          "colorway": [
           "#636efa",
           "#EF553B",
           "#00cc96",
           "#ab63fa",
           "#FFA15A",
           "#19d3f3",
           "#FF6692",
           "#B6E880",
           "#FF97FF",
           "#FECB52"
          ],
          "font": {
           "color": "#2a3f5f"
          },
          "geo": {
           "bgcolor": "white",
           "lakecolor": "white",
           "landcolor": "#E5ECF6",
           "showlakes": true,
           "showland": true,
           "subunitcolor": "white"
          },
          "hoverlabel": {
           "align": "left"
          },
          "hovermode": "closest",
          "mapbox": {
           "style": "light"
          },
          "paper_bgcolor": "white",
          "plot_bgcolor": "#E5ECF6",
          "polar": {
           "angularaxis": {
            "gridcolor": "white",
            "linecolor": "white",
            "ticks": ""
           },
           "bgcolor": "#E5ECF6",
           "radialaxis": {
            "gridcolor": "white",
            "linecolor": "white",
            "ticks": ""
           }
          },
          "scene": {
           "xaxis": {
            "backgroundcolor": "#E5ECF6",
            "gridcolor": "white",
            "gridwidth": 2,
            "linecolor": "white",
            "showbackground": true,
            "ticks": "",
            "zerolinecolor": "white"
           },
           "yaxis": {
            "backgroundcolor": "#E5ECF6",
            "gridcolor": "white",
            "gridwidth": 2,
            "linecolor": "white",
            "showbackground": true,
            "ticks": "",
            "zerolinecolor": "white"
           },
           "zaxis": {
            "backgroundcolor": "#E5ECF6",
            "gridcolor": "white",
            "gridwidth": 2,
            "linecolor": "white",
            "showbackground": true,
            "ticks": "",
            "zerolinecolor": "white"
           }
          },
          "shapedefaults": {
           "line": {
            "color": "#2a3f5f"
           }
          },
          "ternary": {
           "aaxis": {
            "gridcolor": "white",
            "linecolor": "white",
            "ticks": ""
           },
           "baxis": {
            "gridcolor": "white",
            "linecolor": "white",
            "ticks": ""
           },
           "bgcolor": "#E5ECF6",
           "caxis": {
            "gridcolor": "white",
            "linecolor": "white",
            "ticks": ""
           }
          },
          "title": {
           "x": 0.05
          },
          "xaxis": {
           "automargin": true,
           "gridcolor": "white",
           "linecolor": "white",
           "ticks": "",
           "title": {
            "standoff": 15
           },
           "zerolinecolor": "white",
           "zerolinewidth": 2
          },
          "yaxis": {
           "automargin": true,
           "gridcolor": "white",
           "linecolor": "white",
           "ticks": "",
           "title": {
            "standoff": 15
           },
           "zerolinecolor": "white",
           "zerolinewidth": 2
          }
         }
        },
        "title": {
         "text": "Optimization History Plot"
        },
        "xaxis": {
         "title": {
          "text": "#Trials"
         }
        },
        "yaxis": {
         "title": {
          "text": "Objective Value"
         }
        }
       }
      }
     },
     "metadata": {},
     "output_type": "display_data"
    }
   ],
   "source": [
    "#Visualize the trails\n",
    "optuna.visualization.plot_optimization_history(study=study)"
   ]
  },
  {
   "cell_type": "code",
   "execution_count": 273,
   "metadata": {},
   "outputs": [
    {
     "data": {
      "application/vnd.plotly.v1+json": {
       "config": {
        "plotlyServerURL": "https://plot.ly"
       },
       "data": [
        {
         "cliponaxis": false,
         "hovertemplate": [
          "reg_alpha (UniformDistribution): 0.040432121043443604<extra></extra>",
          "max_leaves (IntUniformDistribution): 0.04823655021115373<extra></extra>",
          "sketch_eps (UniformDistribution): 0.0612019160220959<extra></extra>",
          "learning_rate (UniformDistribution): 0.07018436916966365<extra></extra>",
          "gamma (UniformDistribution): 0.07511534522943855<extra></extra>",
          "colsample_bylabel (UniformDistribution): 0.09322130578924179<extra></extra>",
          "reg_lambda (UniformDistribution): 0.11025299745730642<extra></extra>",
          "colsample_bytree (UniformDistribution): 0.11117054281489593<extra></extra>",
          "colsample_bynode (UniformDistribution): 0.14056050166415285<extra></extra>",
          "min_child_weight (UniformDistribution): 0.24962435059860766<extra></extra>"
         ],
         "marker": {
          "color": "rgb(66,146,198)"
         },
         "orientation": "h",
         "text": [
          "0.040432121043443604",
          "0.04823655021115373",
          "0.0612019160220959",
          "0.07018436916966365",
          "0.07511534522943855",
          "0.09322130578924179",
          "0.11025299745730642",
          "0.11117054281489593",
          "0.14056050166415285",
          "0.24962435059860766"
         ],
         "textposition": "outside",
         "texttemplate": "%{text:.2f}",
         "type": "bar",
         "x": [
          0.040432121043443604,
          0.04823655021115373,
          0.0612019160220959,
          0.07018436916966365,
          0.07511534522943855,
          0.09322130578924179,
          0.11025299745730642,
          0.11117054281489593,
          0.14056050166415285,
          0.24962435059860766
         ],
         "y": [
          "reg_alpha",
          "max_leaves",
          "sketch_eps",
          "learning_rate",
          "gamma",
          "colsample_bylabel",
          "reg_lambda",
          "colsample_bytree",
          "colsample_bynode",
          "min_child_weight"
         ]
        }
       ],
       "layout": {
        "showlegend": false,
        "template": {
         "data": {
          "bar": [
           {
            "error_x": {
             "color": "#2a3f5f"
            },
            "error_y": {
             "color": "#2a3f5f"
            },
            "marker": {
             "line": {
              "color": "#E5ECF6",
              "width": 0.5
             },
             "pattern": {
              "fillmode": "overlay",
              "size": 10,
              "solidity": 0.2
             }
            },
            "type": "bar"
           }
          ],
          "barpolar": [
           {
            "marker": {
             "line": {
              "color": "#E5ECF6",
              "width": 0.5
             },
             "pattern": {
              "fillmode": "overlay",
              "size": 10,
              "solidity": 0.2
             }
            },
            "type": "barpolar"
           }
          ],
          "carpet": [
           {
            "aaxis": {
             "endlinecolor": "#2a3f5f",
             "gridcolor": "white",
             "linecolor": "white",
             "minorgridcolor": "white",
             "startlinecolor": "#2a3f5f"
            },
            "baxis": {
             "endlinecolor": "#2a3f5f",
             "gridcolor": "white",
             "linecolor": "white",
             "minorgridcolor": "white",
             "startlinecolor": "#2a3f5f"
            },
            "type": "carpet"
           }
          ],
          "choropleth": [
           {
            "colorbar": {
             "outlinewidth": 0,
             "ticks": ""
            },
            "type": "choropleth"
           }
          ],
          "contour": [
           {
            "colorbar": {
             "outlinewidth": 0,
             "ticks": ""
            },
            "colorscale": [
             [
              0,
              "#0d0887"
             ],
             [
              0.1111111111111111,
              "#46039f"
             ],
             [
              0.2222222222222222,
              "#7201a8"
             ],
             [
              0.3333333333333333,
              "#9c179e"
             ],
             [
              0.4444444444444444,
              "#bd3786"
             ],
             [
              0.5555555555555556,
              "#d8576b"
             ],
             [
              0.6666666666666666,
              "#ed7953"
             ],
             [
              0.7777777777777778,
              "#fb9f3a"
             ],
             [
              0.8888888888888888,
              "#fdca26"
             ],
             [
              1,
              "#f0f921"
             ]
            ],
            "type": "contour"
           }
          ],
          "contourcarpet": [
           {
            "colorbar": {
             "outlinewidth": 0,
             "ticks": ""
            },
            "type": "contourcarpet"
           }
          ],
          "heatmap": [
           {
            "colorbar": {
             "outlinewidth": 0,
             "ticks": ""
            },
            "colorscale": [
             [
              0,
              "#0d0887"
             ],
             [
              0.1111111111111111,
              "#46039f"
             ],
             [
              0.2222222222222222,
              "#7201a8"
             ],
             [
              0.3333333333333333,
              "#9c179e"
             ],
             [
              0.4444444444444444,
              "#bd3786"
             ],
             [
              0.5555555555555556,
              "#d8576b"
             ],
             [
              0.6666666666666666,
              "#ed7953"
             ],
             [
              0.7777777777777778,
              "#fb9f3a"
             ],
             [
              0.8888888888888888,
              "#fdca26"
             ],
             [
              1,
              "#f0f921"
             ]
            ],
            "type": "heatmap"
           }
          ],
          "heatmapgl": [
           {
            "colorbar": {
             "outlinewidth": 0,
             "ticks": ""
            },
            "colorscale": [
             [
              0,
              "#0d0887"
             ],
             [
              0.1111111111111111,
              "#46039f"
             ],
             [
              0.2222222222222222,
              "#7201a8"
             ],
             [
              0.3333333333333333,
              "#9c179e"
             ],
             [
              0.4444444444444444,
              "#bd3786"
             ],
             [
              0.5555555555555556,
              "#d8576b"
             ],
             [
              0.6666666666666666,
              "#ed7953"
             ],
             [
              0.7777777777777778,
              "#fb9f3a"
             ],
             [
              0.8888888888888888,
              "#fdca26"
             ],
             [
              1,
              "#f0f921"
             ]
            ],
            "type": "heatmapgl"
           }
          ],
          "histogram": [
           {
            "marker": {
             "pattern": {
              "fillmode": "overlay",
              "size": 10,
              "solidity": 0.2
             }
            },
            "type": "histogram"
           }
          ],
          "histogram2d": [
           {
            "colorbar": {
             "outlinewidth": 0,
             "ticks": ""
            },
            "colorscale": [
             [
              0,
              "#0d0887"
             ],
             [
              0.1111111111111111,
              "#46039f"
             ],
             [
              0.2222222222222222,
              "#7201a8"
             ],
             [
              0.3333333333333333,
              "#9c179e"
             ],
             [
              0.4444444444444444,
              "#bd3786"
             ],
             [
              0.5555555555555556,
              "#d8576b"
             ],
             [
              0.6666666666666666,
              "#ed7953"
             ],
             [
              0.7777777777777778,
              "#fb9f3a"
             ],
             [
              0.8888888888888888,
              "#fdca26"
             ],
             [
              1,
              "#f0f921"
             ]
            ],
            "type": "histogram2d"
           }
          ],
          "histogram2dcontour": [
           {
            "colorbar": {
             "outlinewidth": 0,
             "ticks": ""
            },
            "colorscale": [
             [
              0,
              "#0d0887"
             ],
             [
              0.1111111111111111,
              "#46039f"
             ],
             [
              0.2222222222222222,
              "#7201a8"
             ],
             [
              0.3333333333333333,
              "#9c179e"
             ],
             [
              0.4444444444444444,
              "#bd3786"
             ],
             [
              0.5555555555555556,
              "#d8576b"
             ],
             [
              0.6666666666666666,
              "#ed7953"
             ],
             [
              0.7777777777777778,
              "#fb9f3a"
             ],
             [
              0.8888888888888888,
              "#fdca26"
             ],
             [
              1,
              "#f0f921"
             ]
            ],
            "type": "histogram2dcontour"
           }
          ],
          "mesh3d": [
           {
            "colorbar": {
             "outlinewidth": 0,
             "ticks": ""
            },
            "type": "mesh3d"
           }
          ],
          "parcoords": [
           {
            "line": {
             "colorbar": {
              "outlinewidth": 0,
              "ticks": ""
             }
            },
            "type": "parcoords"
           }
          ],
          "pie": [
           {
            "automargin": true,
            "type": "pie"
           }
          ],
          "scatter": [
           {
            "fillpattern": {
             "fillmode": "overlay",
             "size": 10,
             "solidity": 0.2
            },
            "type": "scatter"
           }
          ],
          "scatter3d": [
           {
            "line": {
             "colorbar": {
              "outlinewidth": 0,
              "ticks": ""
             }
            },
            "marker": {
             "colorbar": {
              "outlinewidth": 0,
              "ticks": ""
             }
            },
            "type": "scatter3d"
           }
          ],
          "scattercarpet": [
           {
            "marker": {
             "colorbar": {
              "outlinewidth": 0,
              "ticks": ""
             }
            },
            "type": "scattercarpet"
           }
          ],
          "scattergeo": [
           {
            "marker": {
             "colorbar": {
              "outlinewidth": 0,
              "ticks": ""
             }
            },
            "type": "scattergeo"
           }
          ],
          "scattergl": [
           {
            "marker": {
             "colorbar": {
              "outlinewidth": 0,
              "ticks": ""
             }
            },
            "type": "scattergl"
           }
          ],
          "scattermapbox": [
           {
            "marker": {
             "colorbar": {
              "outlinewidth": 0,
              "ticks": ""
             }
            },
            "type": "scattermapbox"
           }
          ],
          "scatterpolar": [
           {
            "marker": {
             "colorbar": {
              "outlinewidth": 0,
              "ticks": ""
             }
            },
            "type": "scatterpolar"
           }
          ],
          "scatterpolargl": [
           {
            "marker": {
             "colorbar": {
              "outlinewidth": 0,
              "ticks": ""
             }
            },
            "type": "scatterpolargl"
           }
          ],
          "scatterternary": [
           {
            "marker": {
             "colorbar": {
              "outlinewidth": 0,
              "ticks": ""
             }
            },
            "type": "scatterternary"
           }
          ],
          "surface": [
           {
            "colorbar": {
             "outlinewidth": 0,
             "ticks": ""
            },
            "colorscale": [
             [
              0,
              "#0d0887"
             ],
             [
              0.1111111111111111,
              "#46039f"
             ],
             [
              0.2222222222222222,
              "#7201a8"
             ],
             [
              0.3333333333333333,
              "#9c179e"
             ],
             [
              0.4444444444444444,
              "#bd3786"
             ],
             [
              0.5555555555555556,
              "#d8576b"
             ],
             [
              0.6666666666666666,
              "#ed7953"
             ],
             [
              0.7777777777777778,
              "#fb9f3a"
             ],
             [
              0.8888888888888888,
              "#fdca26"
             ],
             [
              1,
              "#f0f921"
             ]
            ],
            "type": "surface"
           }
          ],
          "table": [
           {
            "cells": {
             "fill": {
              "color": "#EBF0F8"
             },
             "line": {
              "color": "white"
             }
            },
            "header": {
             "fill": {
              "color": "#C8D4E3"
             },
             "line": {
              "color": "white"
             }
            },
            "type": "table"
           }
          ]
         },
         "layout": {
          "annotationdefaults": {
           "arrowcolor": "#2a3f5f",
           "arrowhead": 0,
           "arrowwidth": 1
          },
          "autotypenumbers": "strict",
          "coloraxis": {
           "colorbar": {
            "outlinewidth": 0,
            "ticks": ""
           }
          },
          "colorscale": {
           "diverging": [
            [
             0,
             "#8e0152"
            ],
            [
             0.1,
             "#c51b7d"
            ],
            [
             0.2,
             "#de77ae"
            ],
            [
             0.3,
             "#f1b6da"
            ],
            [
             0.4,
             "#fde0ef"
            ],
            [
             0.5,
             "#f7f7f7"
            ],
            [
             0.6,
             "#e6f5d0"
            ],
            [
             0.7,
             "#b8e186"
            ],
            [
             0.8,
             "#7fbc41"
            ],
            [
             0.9,
             "#4d9221"
            ],
            [
             1,
             "#276419"
            ]
           ],
           "sequential": [
            [
             0,
             "#0d0887"
            ],
            [
             0.1111111111111111,
             "#46039f"
            ],
            [
             0.2222222222222222,
             "#7201a8"
            ],
            [
             0.3333333333333333,
             "#9c179e"
            ],
            [
             0.4444444444444444,
             "#bd3786"
            ],
            [
             0.5555555555555556,
             "#d8576b"
            ],
            [
             0.6666666666666666,
             "#ed7953"
            ],
            [
             0.7777777777777778,
             "#fb9f3a"
            ],
            [
             0.8888888888888888,
             "#fdca26"
            ],
            [
             1,
             "#f0f921"
            ]
           ],
           "sequentialminus": [
            [
             0,
             "#0d0887"
            ],
            [
             0.1111111111111111,
             "#46039f"
            ],
            [
             0.2222222222222222,
             "#7201a8"
            ],
            [
             0.3333333333333333,
             "#9c179e"
            ],
            [
             0.4444444444444444,
             "#bd3786"
            ],
            [
             0.5555555555555556,
             "#d8576b"
            ],
            [
             0.6666666666666666,
             "#ed7953"
            ],
            [
             0.7777777777777778,
             "#fb9f3a"
            ],
            [
             0.8888888888888888,
             "#fdca26"
            ],
            [
             1,
             "#f0f921"
            ]
           ]
          },
          "colorway": [
           "#636efa",
           "#EF553B",
           "#00cc96",
           "#ab63fa",
           "#FFA15A",
           "#19d3f3",
           "#FF6692",
           "#B6E880",
           "#FF97FF",
           "#FECB52"
          ],
          "font": {
           "color": "#2a3f5f"
          },
          "geo": {
           "bgcolor": "white",
           "lakecolor": "white",
           "landcolor": "#E5ECF6",
           "showlakes": true,
           "showland": true,
           "subunitcolor": "white"
          },
          "hoverlabel": {
           "align": "left"
          },
          "hovermode": "closest",
          "mapbox": {
           "style": "light"
          },
          "paper_bgcolor": "white",
          "plot_bgcolor": "#E5ECF6",
          "polar": {
           "angularaxis": {
            "gridcolor": "white",
            "linecolor": "white",
            "ticks": ""
           },
           "bgcolor": "#E5ECF6",
           "radialaxis": {
            "gridcolor": "white",
            "linecolor": "white",
            "ticks": ""
           }
          },
          "scene": {
           "xaxis": {
            "backgroundcolor": "#E5ECF6",
            "gridcolor": "white",
            "gridwidth": 2,
            "linecolor": "white",
            "showbackground": true,
            "ticks": "",
            "zerolinecolor": "white"
           },
           "yaxis": {
            "backgroundcolor": "#E5ECF6",
            "gridcolor": "white",
            "gridwidth": 2,
            "linecolor": "white",
            "showbackground": true,
            "ticks": "",
            "zerolinecolor": "white"
           },
           "zaxis": {
            "backgroundcolor": "#E5ECF6",
            "gridcolor": "white",
            "gridwidth": 2,
            "linecolor": "white",
            "showbackground": true,
            "ticks": "",
            "zerolinecolor": "white"
           }
          },
          "shapedefaults": {
           "line": {
            "color": "#2a3f5f"
           }
          },
          "ternary": {
           "aaxis": {
            "gridcolor": "white",
            "linecolor": "white",
            "ticks": ""
           },
           "baxis": {
            "gridcolor": "white",
            "linecolor": "white",
            "ticks": ""
           },
           "bgcolor": "#E5ECF6",
           "caxis": {
            "gridcolor": "white",
            "linecolor": "white",
            "ticks": ""
           }
          },
          "title": {
           "x": 0.05
          },
          "xaxis": {
           "automargin": true,
           "gridcolor": "white",
           "linecolor": "white",
           "ticks": "",
           "title": {
            "standoff": 15
           },
           "zerolinecolor": "white",
           "zerolinewidth": 2
          },
          "yaxis": {
           "automargin": true,
           "gridcolor": "white",
           "linecolor": "white",
           "ticks": "",
           "title": {
            "standoff": 15
           },
           "zerolinecolor": "white",
           "zerolinewidth": 2
          }
         }
        },
        "title": {
         "text": "Hyperparameter Importances"
        },
        "xaxis": {
         "title": {
          "text": "Importance for Objective Value"
         }
        },
        "yaxis": {
         "title": {
          "text": "Hyperparameter"
         }
        }
       }
      }
     },
     "metadata": {},
     "output_type": "display_data"
    }
   ],
   "source": [
    "#hyperparameter accuracy plot\n",
    "optuna.visualization.plot_param_importances(study=study)"
   ]
  },
  {
   "cell_type": "code",
   "execution_count": 289,
   "metadata": {},
   "outputs": [
    {
     "name": "stdout",
     "output_type": "stream",
     "text": [
      "Fitting 10 folds for each of 1 candidates, totalling 10 fits\n",
      "[08:22:49] WARNING: C:/Users/Administrator/workspace/xgboost-win64_release_1.6.0/src/gbm/gbtree.cc:82: DANGER AHEAD: You have manually specified `updater` parameter. The `tree_method` parameter will be ignored. Incorrect sequence of updaters will produce undefined behavior. For common uses, we recommend using `tree_method` parameter instead.\n",
      "[08:22:49] WARNING: C:/Users/Administrator/workspace/xgboost-win64_release_1.6.0/src/learner.cc:627: \n",
      "Parameters: { \"colsample_bylabel\" } might not be used.\n",
      "\n",
      "  This could be a false alarm, with some parameters getting used by language bindings but\n",
      "  then being mistakenly passed down to XGBoost core, or some parameter actually being used\n",
      "  but getting flagged wrongly here. Please open an issue if you find any such cases.\n",
      "\n",
      "\n",
      "F1 Score:0.540759493670886\n",
      "precision Score:0.664179104477612\n",
      "recall Score:0.4560204953031597\n",
      "accuracy 0.8719107470696229\n"
     ]
    },
    {
     "data": {
      "text/plain": [
       "<sklearn.metrics._plot.confusion_matrix.ConfusionMatrixDisplay at 0x2428e8fb730>"
      ]
     },
     "execution_count": 289,
     "metadata": {},
     "output_type": "execute_result"
    },
    {
     "data": {
      "image/png": "[encoded data removed]",
      "text/plain": [
       "<Figure size 432x288 with 2 Axes>"
      ]
     },
     "metadata": {
      "needs_background": "light"
     },
     "output_type": "display_data"
    }
   ],
   "source": [
    "#Setting the parameter to the model \n",
    "model = GridSearchCV(\n",
    "        estimator=xgb,\n",
    "        param_grid=param,\n",
    "        n_jobs=10, cv=10, verbose=2\n",
    "    )\n",
    "model.fit(x_train, y_train)#fitting the model \n",
    "print(\"F1 Score:{}\".format(f1_score(y_pred=model.predict(x_test), y_true=y_test)))#f1 score counting\n",
    "print(\"precision Score:{}\".format(precision_score(y_pred=model.predict(x_test), y_true=y_test)))#precision Score counting\n",
    "print(\"recall Score:{}\".format(recall_score(y_pred=model.predict(x_test), y_true=y_test)))#Recall Score counting\n",
    "print(\"accuracy {}\".format(model.score(x_test, y_test)))#Accuracy by score\n",
    "plot_confusion_matrix(model, x_test, y_test)#Confusion matrix"
   ]
  },
  {
   "cell_type": "markdown",
   "metadata": {},
   "source": [
    "## Submission File Building"
   ]
  },
  {
   "cell_type": "markdown",
   "metadata": {},
   "source": [
    "From the test data, we can observe that the test data has only two columns that represent id and label. Moreover, we notice that the testing set is greater than the training set. Generally, we find that the training set is greater than the testing set. But in this case, we can see an exception. We also observe that like the training set testing set is also scalable. So we didn't need scale it anymore.\n",
    "\n",
    "In this section, we cleaned the test dataset. For this, at first, we took the test.csv file as a data frame called test. Then, we found its shape and column. By observing the dataset, we figured out that the test dataset had some missing info. We dropped some columns and sliced the whole data frame. After finishing our cleaning, we chose our features according to our model dimension. Then, we predicted it and submitted the result according to the requirements."
   ]
  },
  {
   "cell_type": "code",
   "execution_count": 275,
   "metadata": {},
   "outputs": [],
   "source": [
    "test = pd.read_csv('test.csv')"
   ]
  },
  {
   "cell_type": "code",
   "execution_count": 276,
   "metadata": {},
   "outputs": [
    {
     "data": {
      "text/html": [
       "<div>\n",
       "<style scoped>\n",
       "    .dataframe tbody tr th:only-of-type {\n",
       "        vertical-align: middle;\n",
       "    }\n",
       "\n",
       "    .dataframe tbody tr th {\n",
       "        vertical-align: top;\n",
       "    }\n",
       "\n",
       "    .dataframe thead th {\n",
       "        text-align: right;\n",
       "    }\n",
       "</style>\n",
       "<table border=\"1\" class=\"dataframe\">\n",
       "  <thead>\n",
       "    <tr style=\"text-align: right;\">\n",
       "      <th></th>\n",
       "      <th>count</th>\n",
       "      <th>mean</th>\n",
       "      <th>std</th>\n",
       "      <th>min</th>\n",
       "      <th>25%</th>\n",
       "      <th>50%</th>\n",
       "      <th>75%</th>\n",
       "      <th>max</th>\n",
       "    </tr>\n",
       "  </thead>\n",
       "  <tbody>\n",
       "    <tr>\n",
       "      <th>s13</th>\n",
       "      <td>85065.0</td>\n",
       "      <td>0.953612</td>\n",
       "      <td>0.210325</td>\n",
       "      <td>0.000000</td>\n",
       "      <td>1.000000</td>\n",
       "      <td>1.000000</td>\n",
       "      <td>1.000000</td>\n",
       "      <td>1.000000</td>\n",
       "    </tr>\n",
       "    <tr>\n",
       "      <th>s48</th>\n",
       "      <td>85065.0</td>\n",
       "      <td>0.570564</td>\n",
       "      <td>0.494999</td>\n",
       "      <td>0.000000</td>\n",
       "      <td>0.000000</td>\n",
       "      <td>1.000000</td>\n",
       "      <td>1.000000</td>\n",
       "      <td>1.000000</td>\n",
       "    </tr>\n",
       "    <tr>\n",
       "      <th>s56</th>\n",
       "      <td>0.0</td>\n",
       "      <td>NaN</td>\n",
       "      <td>NaN</td>\n",
       "      <td>NaN</td>\n",
       "      <td>NaN</td>\n",
       "      <td>NaN</td>\n",
       "      <td>NaN</td>\n",
       "      <td>NaN</td>\n",
       "    </tr>\n",
       "    <tr>\n",
       "      <th>s57</th>\n",
       "      <td>0.0</td>\n",
       "      <td>NaN</td>\n",
       "      <td>NaN</td>\n",
       "      <td>NaN</td>\n",
       "      <td>NaN</td>\n",
       "      <td>NaN</td>\n",
       "      <td>NaN</td>\n",
       "      <td>NaN</td>\n",
       "    </tr>\n",
       "    <tr>\n",
       "      <th>s59</th>\n",
       "      <td>0.0</td>\n",
       "      <td>NaN</td>\n",
       "      <td>NaN</td>\n",
       "      <td>NaN</td>\n",
       "      <td>NaN</td>\n",
       "      <td>NaN</td>\n",
       "      <td>NaN</td>\n",
       "      <td>NaN</td>\n",
       "    </tr>\n",
       "    <tr>\n",
       "      <th>n1</th>\n",
       "      <td>85065.0</td>\n",
       "      <td>10.904372</td>\n",
       "      <td>4.649393</td>\n",
       "      <td>1.774084</td>\n",
       "      <td>6.852753</td>\n",
       "      <td>10.253073</td>\n",
       "      <td>14.952697</td>\n",
       "      <td>21.114856</td>\n",
       "    </tr>\n",
       "    <tr>\n",
       "      <th>n2</th>\n",
       "      <td>85065.0</td>\n",
       "      <td>1.690170</td>\n",
       "      <td>0.701254</td>\n",
       "      <td>0.296709</td>\n",
       "      <td>1.063777</td>\n",
       "      <td>1.536346</td>\n",
       "      <td>2.322289</td>\n",
       "      <td>3.168021</td>\n",
       "    </tr>\n",
       "    <tr>\n",
       "      <th>n3</th>\n",
       "      <td>85065.0</td>\n",
       "      <td>4.523129</td>\n",
       "      <td>2.214882</td>\n",
       "      <td>0.000000</td>\n",
       "      <td>3.000000</td>\n",
       "      <td>3.000000</td>\n",
       "      <td>6.000000</td>\n",
       "      <td>10.000000</td>\n",
       "    </tr>\n",
       "    <tr>\n",
       "      <th>n4</th>\n",
       "      <td>85065.0</td>\n",
       "      <td>4.942377</td>\n",
       "      <td>2.275428</td>\n",
       "      <td>1.719517</td>\n",
       "      <td>2.581561</td>\n",
       "      <td>4.608153</td>\n",
       "      <td>7.174565</td>\n",
       "      <td>8.613252</td>\n",
       "    </tr>\n",
       "    <tr>\n",
       "      <th>n5</th>\n",
       "      <td>85065.0</td>\n",
       "      <td>-32.592722</td>\n",
       "      <td>0.236180</td>\n",
       "      <td>-33.160250</td>\n",
       "      <td>-32.775073</td>\n",
       "      <td>-32.573743</td>\n",
       "      <td>-32.393736</td>\n",
       "      <td>-32.280779</td>\n",
       "    </tr>\n",
       "    <tr>\n",
       "      <th>n6</th>\n",
       "      <td>85065.0</td>\n",
       "      <td>0.016170</td>\n",
       "      <td>0.006805</td>\n",
       "      <td>0.000271</td>\n",
       "      <td>0.010620</td>\n",
       "      <td>0.016748</td>\n",
       "      <td>0.020708</td>\n",
       "      <td>0.030077</td>\n",
       "    </tr>\n",
       "    <tr>\n",
       "      <th>n7</th>\n",
       "      <td>85065.0</td>\n",
       "      <td>-9.113902</td>\n",
       "      <td>0.194457</td>\n",
       "      <td>-9.516944</td>\n",
       "      <td>-9.253359</td>\n",
       "      <td>-9.180832</td>\n",
       "      <td>-8.989395</td>\n",
       "      <td>-8.581279</td>\n",
       "    </tr>\n",
       "    <tr>\n",
       "      <th>n8</th>\n",
       "      <td>85065.0</td>\n",
       "      <td>1.643653</td>\n",
       "      <td>0.194334</td>\n",
       "      <td>1.169057</td>\n",
       "      <td>1.495113</td>\n",
       "      <td>1.563153</td>\n",
       "      <td>1.798653</td>\n",
       "      <td>2.186357</td>\n",
       "    </tr>\n",
       "    <tr>\n",
       "      <th>n9</th>\n",
       "      <td>85065.0</td>\n",
       "      <td>5.356470</td>\n",
       "      <td>2.159676</td>\n",
       "      <td>2.410793</td>\n",
       "      <td>3.539583</td>\n",
       "      <td>4.978190</td>\n",
       "      <td>6.649285</td>\n",
       "      <td>11.269972</td>\n",
       "    </tr>\n",
       "    <tr>\n",
       "      <th>n10</th>\n",
       "      <td>85065.0</td>\n",
       "      <td>6.014440</td>\n",
       "      <td>2.312533</td>\n",
       "      <td>1.412814</td>\n",
       "      <td>4.454910</td>\n",
       "      <td>5.415909</td>\n",
       "      <td>6.571065</td>\n",
       "      <td>12.077567</td>\n",
       "    </tr>\n",
       "    <tr>\n",
       "      <th>n11</th>\n",
       "      <td>85065.0</td>\n",
       "      <td>1.699890</td>\n",
       "      <td>0.115492</td>\n",
       "      <td>1.500009</td>\n",
       "      <td>1.599921</td>\n",
       "      <td>1.699715</td>\n",
       "      <td>1.800324</td>\n",
       "      <td>1.899988</td>\n",
       "    </tr>\n",
       "    <tr>\n",
       "      <th>n12</th>\n",
       "      <td>85065.0</td>\n",
       "      <td>0.010439</td>\n",
       "      <td>0.101638</td>\n",
       "      <td>0.000000</td>\n",
       "      <td>0.000000</td>\n",
       "      <td>0.000000</td>\n",
       "      <td>0.000000</td>\n",
       "      <td>1.000000</td>\n",
       "    </tr>\n",
       "    <tr>\n",
       "      <th>n13</th>\n",
       "      <td>85065.0</td>\n",
       "      <td>0.090425</td>\n",
       "      <td>0.286791</td>\n",
       "      <td>0.000000</td>\n",
       "      <td>0.000000</td>\n",
       "      <td>0.000000</td>\n",
       "      <td>0.000000</td>\n",
       "      <td>1.000000</td>\n",
       "    </tr>\n",
       "    <tr>\n",
       "      <th>n14</th>\n",
       "      <td>85065.0</td>\n",
       "      <td>0.499702</td>\n",
       "      <td>0.288925</td>\n",
       "      <td>0.000003</td>\n",
       "      <td>0.249536</td>\n",
       "      <td>0.499816</td>\n",
       "      <td>0.750156</td>\n",
       "      <td>0.999989</td>\n",
       "    </tr>\n",
       "    <tr>\n",
       "      <th>n15</th>\n",
       "      <td>85065.0</td>\n",
       "      <td>3.004444</td>\n",
       "      <td>2.001875</td>\n",
       "      <td>0.000000</td>\n",
       "      <td>1.000000</td>\n",
       "      <td>3.000000</td>\n",
       "      <td>5.000000</td>\n",
       "      <td>6.000000</td>\n",
       "    </tr>\n",
       "  </tbody>\n",
       "</table>\n",
       "</div>"
      ],
      "text/plain": [
       "       count       mean       std        min        25%        50%        75%  \\\n",
       "s13  85065.0   0.953612  0.210325   0.000000   1.000000   1.000000   1.000000   \n",
       "s48  85065.0   0.570564  0.494999   0.000000   0.000000   1.000000   1.000000   \n",
       "s56      0.0        NaN       NaN        NaN        NaN        NaN        NaN   \n",
       "s57      0.0        NaN       NaN        NaN        NaN        NaN        NaN   \n",
       "s59      0.0        NaN       NaN        NaN        NaN        NaN        NaN   \n",
       "n1   85065.0  10.904372  4.649393   1.774084   6.852753  10.253073  14.952697   \n",
       "n2   85065.0   1.690170  0.701254   0.296709   1.063777   1.536346   2.322289   \n",
       "n3   85065.0   4.523129  2.214882   0.000000   3.000000   3.000000   6.000000   \n",
       "n4   85065.0   4.942377  2.275428   1.719517   2.581561   4.608153   7.174565   \n",
       "n5   85065.0 -32.592722  0.236180 -33.160250 -32.775073 -32.573743 -32.393736   \n",
       "n6   85065.0   0.016170  0.006805   0.000271   0.010620   0.016748   0.020708   \n",
       "n7   85065.0  -9.113902  0.194457  -9.516944  -9.253359  -9.180832  -8.989395   \n",
       "n8   85065.0   1.643653  0.194334   1.169057   1.495113   1.563153   1.798653   \n",
       "n9   85065.0   5.356470  2.159676   2.410793   3.539583   4.978190   6.649285   \n",
       "n10  85065.0   6.014440  2.312533   1.412814   4.454910   5.415909   6.571065   \n",
       "n11  85065.0   1.699890  0.115492   1.500009   1.599921   1.699715   1.800324   \n",
       "n12  85065.0   0.010439  0.101638   0.000000   0.000000   0.000000   0.000000   \n",
       "n13  85065.0   0.090425  0.286791   0.000000   0.000000   0.000000   0.000000   \n",
       "n14  85065.0   0.499702  0.288925   0.000003   0.249536   0.499816   0.750156   \n",
       "n15  85065.0   3.004444  2.001875   0.000000   1.000000   3.000000   5.000000   \n",
       "\n",
       "           max  \n",
       "s13   1.000000  \n",
       "s48   1.000000  \n",
       "s56        NaN  \n",
       "s57        NaN  \n",
       "s59        NaN  \n",
       "n1   21.114856  \n",
       "n2    3.168021  \n",
       "n3   10.000000  \n",
       "n4    8.613252  \n",
       "n5  -32.280779  \n",
       "n6    0.030077  \n",
       "n7   -8.581279  \n",
       "n8    2.186357  \n",
       "n9   11.269972  \n",
       "n10  12.077567  \n",
       "n11   1.899988  \n",
       "n12   1.000000  \n",
       "n13   1.000000  \n",
       "n14   0.999989  \n",
       "n15   6.000000  "
      ]
     },
     "execution_count": 276,
     "metadata": {},
     "output_type": "execute_result"
    }
   ],
   "source": [
    "test.describe().T #Statistical description about the testing "
   ]
  },
  {
   "cell_type": "code",
   "execution_count": 277,
   "metadata": {},
   "outputs": [
    {
     "data": {
      "text/plain": [
       "s59       100.000000\n",
       "s57       100.000000\n",
       "s56       100.000000\n",
       "s54        90.897549\n",
       "s55        88.924940\n",
       "id          0.000000\n",
       "n1          0.000000\n",
       "n3          0.000000\n",
       "n4          0.000000\n",
       "n5          0.000000\n",
       "n6          0.000000\n",
       "n7          0.000000\n",
       "n8          0.000000\n",
       "n9          0.000000\n",
       "n10         0.000000\n",
       "n11         0.000000\n",
       "n12         0.000000\n",
       "n13         0.000000\n",
       "n14         0.000000\n",
       "n2          0.000000\n",
       "s69         0.000000\n",
       "s71         0.000000\n",
       "s70         0.000000\n",
       "gender      0.000000\n",
       "s58         0.000000\n",
       "s53         0.000000\n",
       "s52         0.000000\n",
       "s48         0.000000\n",
       "s18         0.000000\n",
       "s17         0.000000\n",
       "s16         0.000000\n",
       "s13         0.000000\n",
       "s12         0.000000\n",
       "s11         0.000000\n",
       "n15         0.000000\n",
       "dtype: float64"
      ]
     },
     "execution_count": 277,
     "metadata": {},
     "output_type": "execute_result"
    }
   ],
   "source": [
    "(test.isnull().sum().sort_values(ascending=False)/len(test))*100\n"
   ]
  },
  {
   "cell_type": "code",
   "execution_count": 278,
   "metadata": {},
   "outputs": [],
   "source": [
    "test = test.drop(axis=1, columns=droping_columns)"
   ]
  },
  {
   "cell_type": "code",
   "execution_count": 279,
   "metadata": {},
   "outputs": [
    {
     "data": {
      "text/plain": [
       "((85065, 27), (28322, 28))"
      ]
     },
     "execution_count": 279,
     "metadata": {},
     "output_type": "execute_result"
    }
   ],
   "source": [
    "test.shape, data.shape"
   ]
  },
  {
   "cell_type": "code",
   "execution_count": 280,
   "metadata": {},
   "outputs": [
    {
     "name": "stdout",
     "output_type": "stream",
     "text": [
      "<class 'pandas.core.frame.DataFrame'>\n",
      "RangeIndex: 85065 entries, 0 to 85064\n",
      "Data columns (total 27 columns):\n",
      " #   Column  Non-Null Count  Dtype  \n",
      "---  ------  --------------  -----  \n",
      " 0   id      85065 non-null  object \n",
      " 1   gender  85065 non-null  object \n",
      " 2   s11     85065 non-null  object \n",
      " 3   s12     85065 non-null  object \n",
      " 4   s13     85065 non-null  int64  \n",
      " 5   s16     85065 non-null  object \n",
      " 6   s17     85065 non-null  object \n",
      " 7   s18     85065 non-null  object \n",
      " 8   s48     85065 non-null  int64  \n",
      " 9   s58     85065 non-null  object \n",
      " 10  s70     85065 non-null  object \n",
      " 11  s71     85065 non-null  object \n",
      " 12  n1      85065 non-null  float64\n",
      " 13  n2      85065 non-null  float64\n",
      " 14  n3      85065 non-null  int64  \n",
      " 15  n4      85065 non-null  float64\n",
      " 16  n5      85065 non-null  float64\n",
      " 17  n6      85065 non-null  float64\n",
      " 18  n7      85065 non-null  float64\n",
      " 19  n8      85065 non-null  float64\n",
      " 20  n9      85065 non-null  float64\n",
      " 21  n10     85065 non-null  float64\n",
      " 22  n11     85065 non-null  float64\n",
      " 23  n12     85065 non-null  int64  \n",
      " 24  n13     85065 non-null  int64  \n",
      " 25  n14     85065 non-null  float64\n",
      " 26  n15     85065 non-null  int64  \n",
      "dtypes: float64(11), int64(6), object(10)\n",
      "memory usage: 17.5+ MB\n"
     ]
    }
   ],
   "source": [
    "test.info()"
   ]
  },
  {
   "cell_type": "code",
   "execution_count": 281,
   "metadata": {},
   "outputs": [
    {
     "data": {
      "text/plain": [
       "(85065, 66)"
      ]
     },
     "execution_count": 281,
     "metadata": {},
     "output_type": "execute_result"
    }
   ],
   "source": [
    "x_test_submission = pd.get_dummies(test, columns=dumming_columns)\n",
    "x_test_submission.shape"
   ]
  },
  {
   "cell_type": "code",
   "execution_count": 282,
   "metadata": {},
   "outputs": [
    {
     "name": "stdout",
     "output_type": "stream",
     "text": [
      "gender_F\n",
      "gender_M\n",
      "s11_N\n",
      "s11_Y\n",
      "s12_N\n",
      "s12_Y\n",
      "s13_0\n",
      "s13_1\n",
      "s16_A\n",
      "s16_B\n",
      "s16_C\n",
      "s16_D\n",
      "s17_A\n",
      "s17_B\n",
      "s17_C\n",
      "s17_D\n",
      "s18_A\n",
      "s18_B\n",
      "s18_C\n",
      "s18_D\n",
      "s48_0\n",
      "s48_1\n",
      "s58_A\n",
      "s58_B\n",
      "s70_op: A\n",
      "s70_op: B\n",
      "s70_op: C\n",
      "s70_op: D\n",
      "s71_a\n",
      "s71_b\n",
      "s71_c\n",
      "s71_d\n",
      "n3_0\n",
      "n3_1\n",
      "n3_2\n",
      "n3_3\n",
      "n3_4\n",
      "n3_5\n",
      "n3_6\n",
      "n3_7\n",
      "n3_8\n",
      "n3_9\n",
      "n3_10\n",
      "n12_0\n",
      "n12_1\n",
      "n13_0\n",
      "n13_1\n",
      "n15_0\n",
      "n15_1\n",
      "n15_2\n",
      "n15_3\n",
      "n15_4\n",
      "n15_5\n",
      "n15_6\n"
     ]
    }
   ],
   "source": [
    "for col_train in x_test_submission.columns:\n",
    "    if col_train not in x.columns:\n",
    "        print(col_train)"
   ]
  },
  {
   "cell_type": "code",
   "execution_count": 283,
   "metadata": {},
   "outputs": [
    {
     "data": {
      "text/plain": [
       "(85065, 65)"
      ]
     },
     "execution_count": 283,
     "metadata": {},
     "output_type": "execute_result"
    }
   ],
   "source": [
    "x_test_submission = x_test_submission.drop(axis=1, columns=['n3_10'])\n",
    "x_test_submission.shape"
   ]
  },
  {
   "cell_type": "code",
   "execution_count": 284,
   "metadata": {},
   "outputs": [],
   "source": [
    "submission = pd.DataFrame(data={\"id\":x_test_submission['id'], \"label\":model.predict(x_test_submission.drop(axis=1, columns=['id']))})"
   ]
  },
  {
   "cell_type": "code",
   "execution_count": 290,
   "metadata": {},
   "outputs": [],
   "source": [
    "submission.to_csv(\"Submission_CUET_Data_Dealers_bbb106.csv\", index=False)"
   ]
  }
 ],
 "metadata": {
  "interpreter": {
   "hash": "4fbfea1dd5a17f80dff8df3ba641602c59e31ce1a55b82aea18e6894ff3c71a7"
  },
  "kernelspec": {
   "display_name": "Python 3.9.5 64-bit",
   "language": "python",
   "name": "python3"
  },
  "language_info": {
   "codemirror_mode": {
    "name": "ipython",
    "version": 3
   },
   "file_extension": ".py",
   "mimetype": "text/x-python",
   "name": "python",
   "nbconvert_exporter": "python",
   "pygments_lexer": "ipython3",
   "version": "3.9.5"
  },
  "orig_nbformat": 4
 },
 "nbformat": 4,
 "nbformat_minor": 2
}
