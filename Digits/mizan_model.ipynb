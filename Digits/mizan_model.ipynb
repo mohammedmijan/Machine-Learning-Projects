{
 "cells": [
  {
   "cell_type": "code",
   "execution_count": 10,
   "metadata": {},
   "outputs": [],
   "source": [
    "#data processing modules\n",
    "import numpy as np\n",
    "import pandas as pd\n",
    "import random\n"
   ]
  },
  {
   "cell_type": "code",
   "execution_count": 11,
   "metadata": {},
   "outputs": [
    {
     "data": {
      "text/html": [
       "<div>\n",
       "<style scoped>\n",
       "    .dataframe tbody tr th:only-of-type {\n",
       "        vertical-align: middle;\n",
       "    }\n",
       "\n",
       "    .dataframe tbody tr th {\n",
       "        vertical-align: top;\n",
       "    }\n",
       "\n",
       "    .dataframe thead th {\n",
       "        text-align: right;\n",
       "    }\n",
       "</style>\n",
       "<table border=\"1\" class=\"dataframe\">\n",
       "  <thead>\n",
       "    <tr style=\"text-align: right;\">\n",
       "      <th></th>\n",
       "      <th>label</th>\n",
       "      <th>pixel0</th>\n",
       "      <th>pixel1</th>\n",
       "      <th>pixel2</th>\n",
       "      <th>pixel3</th>\n",
       "      <th>pixel4</th>\n",
       "      <th>pixel5</th>\n",
       "      <th>pixel6</th>\n",
       "      <th>pixel7</th>\n",
       "      <th>pixel8</th>\n",
       "      <th>...</th>\n",
       "      <th>pixel774</th>\n",
       "      <th>pixel775</th>\n",
       "      <th>pixel776</th>\n",
       "      <th>pixel777</th>\n",
       "      <th>pixel778</th>\n",
       "      <th>pixel779</th>\n",
       "      <th>pixel780</th>\n",
       "      <th>pixel781</th>\n",
       "      <th>pixel782</th>\n",
       "      <th>pixel783</th>\n",
       "    </tr>\n",
       "  </thead>\n",
       "  <tbody>\n",
       "    <tr>\n",
       "      <th>0</th>\n",
       "      <td>1</td>\n",
       "      <td>0</td>\n",
       "      <td>0</td>\n",
       "      <td>0</td>\n",
       "      <td>0</td>\n",
       "      <td>0</td>\n",
       "      <td>0</td>\n",
       "      <td>0</td>\n",
       "      <td>0</td>\n",
       "      <td>0</td>\n",
       "      <td>...</td>\n",
       "      <td>0</td>\n",
       "      <td>0</td>\n",
       "      <td>0</td>\n",
       "      <td>0</td>\n",
       "      <td>0</td>\n",
       "      <td>0</td>\n",
       "      <td>0</td>\n",
       "      <td>0</td>\n",
       "      <td>0</td>\n",
       "      <td>0</td>\n",
       "    </tr>\n",
       "    <tr>\n",
       "      <th>1</th>\n",
       "      <td>0</td>\n",
       "      <td>0</td>\n",
       "      <td>0</td>\n",
       "      <td>0</td>\n",
       "      <td>0</td>\n",
       "      <td>0</td>\n",
       "      <td>0</td>\n",
       "      <td>0</td>\n",
       "      <td>0</td>\n",
       "      <td>0</td>\n",
       "      <td>...</td>\n",
       "      <td>0</td>\n",
       "      <td>0</td>\n",
       "      <td>0</td>\n",
       "      <td>0</td>\n",
       "      <td>0</td>\n",
       "      <td>0</td>\n",
       "      <td>0</td>\n",
       "      <td>0</td>\n",
       "      <td>0</td>\n",
       "      <td>0</td>\n",
       "    </tr>\n",
       "    <tr>\n",
       "      <th>2</th>\n",
       "      <td>1</td>\n",
       "      <td>0</td>\n",
       "      <td>0</td>\n",
       "      <td>0</td>\n",
       "      <td>0</td>\n",
       "      <td>0</td>\n",
       "      <td>0</td>\n",
       "      <td>0</td>\n",
       "      <td>0</td>\n",
       "      <td>0</td>\n",
       "      <td>...</td>\n",
       "      <td>0</td>\n",
       "      <td>0</td>\n",
       "      <td>0</td>\n",
       "      <td>0</td>\n",
       "      <td>0</td>\n",
       "      <td>0</td>\n",
       "      <td>0</td>\n",
       "      <td>0</td>\n",
       "      <td>0</td>\n",
       "      <td>0</td>\n",
       "    </tr>\n",
       "    <tr>\n",
       "      <th>3</th>\n",
       "      <td>4</td>\n",
       "      <td>0</td>\n",
       "      <td>0</td>\n",
       "      <td>0</td>\n",
       "      <td>0</td>\n",
       "      <td>0</td>\n",
       "      <td>0</td>\n",
       "      <td>0</td>\n",
       "      <td>0</td>\n",
       "      <td>0</td>\n",
       "      <td>...</td>\n",
       "      <td>0</td>\n",
       "      <td>0</td>\n",
       "      <td>0</td>\n",
       "      <td>0</td>\n",
       "      <td>0</td>\n",
       "      <td>0</td>\n",
       "      <td>0</td>\n",
       "      <td>0</td>\n",
       "      <td>0</td>\n",
       "      <td>0</td>\n",
       "    </tr>\n",
       "    <tr>\n",
       "      <th>4</th>\n",
       "      <td>0</td>\n",
       "      <td>0</td>\n",
       "      <td>0</td>\n",
       "      <td>0</td>\n",
       "      <td>0</td>\n",
       "      <td>0</td>\n",
       "      <td>0</td>\n",
       "      <td>0</td>\n",
       "      <td>0</td>\n",
       "      <td>0</td>\n",
       "      <td>...</td>\n",
       "      <td>0</td>\n",
       "      <td>0</td>\n",
       "      <td>0</td>\n",
       "      <td>0</td>\n",
       "      <td>0</td>\n",
       "      <td>0</td>\n",
       "      <td>0</td>\n",
       "      <td>0</td>\n",
       "      <td>0</td>\n",
       "      <td>0</td>\n",
       "    </tr>\n",
       "  </tbody>\n",
       "</table>\n",
       "<p>5 rows × 785 columns</p>\n",
       "</div>"
      ],
      "text/plain": [
       "   label  pixel0  pixel1  pixel2  pixel3  pixel4  pixel5  pixel6  pixel7  \\\n",
       "0      1       0       0       0       0       0       0       0       0   \n",
       "1      0       0       0       0       0       0       0       0       0   \n",
       "2      1       0       0       0       0       0       0       0       0   \n",
       "3      4       0       0       0       0       0       0       0       0   \n",
       "4      0       0       0       0       0       0       0       0       0   \n",
       "\n",
       "   pixel8  ...  pixel774  pixel775  pixel776  pixel777  pixel778  pixel779  \\\n",
       "0       0  ...         0         0         0         0         0         0   \n",
       "1       0  ...         0         0         0         0         0         0   \n",
       "2       0  ...         0         0         0         0         0         0   \n",
       "3       0  ...         0         0         0         0         0         0   \n",
       "4       0  ...         0         0         0         0         0         0   \n",
       "\n",
       "   pixel780  pixel781  pixel782  pixel783  \n",
       "0         0         0         0         0  \n",
       "1         0         0         0         0  \n",
       "2         0         0         0         0  \n",
       "3         0         0         0         0  \n",
       "4         0         0         0         0  \n",
       "\n",
       "[5 rows x 785 columns]"
      ]
     },
     "execution_count": 11,
     "metadata": {},
     "output_type": "execute_result"
    }
   ],
   "source": [
    "#Reading data\n",
    "digits = pd.read_csv(\"train.csv\")\n",
    "digits.head()"
   ]
  },
  {
   "cell_type": "code",
   "execution_count": 12,
   "metadata": {},
   "outputs": [],
   "source": [
    "#Data Visualization\n",
    "import matplotlib.pyplot as plt\n",
    "\n",
    "def digit_plot(index:int):   \n",
    "    y = digits.label[index]\n",
    "    x = digits.loc[index][1:785].values\n",
    "    x = x.reshape(28, 28)\n",
    "    plt.imshow(np.array(x))\n",
    "    print(\"Plotting Digit:{}\".format(y))\n",
    "    plt.show()"
   ]
  },
  {
   "cell_type": "code",
   "execution_count": 32,
   "metadata": {},
   "outputs": [
    {
     "name": "stdout",
     "output_type": "stream",
     "text": [
      "Plotting Digit:2\n"
     ]
    },
    {
     "data": {
      "image/png": "[encoded data removed]",
      "text/plain": [
       "<Figure size 432x288 with 1 Axes>"
      ]
     },
     "metadata": {
      "needs_background": "light"
     },
     "output_type": "display_data"
    }
   ],
   "source": [
    "#Visualize the data\n",
    "for i in random.choices([i for i in range(100)]):\n",
    "    digit_plot(index=i)"
   ]
  },
  {
   "cell_type": "code",
   "execution_count": 14,
   "metadata": {},
   "outputs": [],
   "source": [
    "#digits data slicing\n",
    "x = digits.drop(columns=['label']).copy()\n",
    "y = digits.label"
   ]
  },
  {
   "cell_type": "code",
   "execution_count": 15,
   "metadata": {},
   "outputs": [
    {
     "data": {
      "text/plain": [
       "'x = np.array(x)\\nm = []\\nfor data in x:\\n    m.append(data.reshape(28, 28))\\n\\nx = np.array(m)'"
      ]
     },
     "execution_count": 15,
     "metadata": {},
     "output_type": "execute_result"
    }
   ],
   "source": [
    "#reshaping into (28, 28)\n",
    "\"\"\"x = np.array(x)\n",
    "m = []\n",
    "for data in x:\n",
    "    m.append(data.reshape(28, 28))\n",
    "\n",
    "x = np.array(m)\"\"\""
   ]
  },
  {
   "cell_type": "code",
   "execution_count": 16,
   "metadata": {},
   "outputs": [],
   "source": [
    "#training set and testing set\n",
    "#____modules___\n",
    "from sklearn.model_selection import train_test_split"
   ]
  },
  {
   "cell_type": "code",
   "execution_count": 17,
   "metadata": {},
   "outputs": [],
   "source": [
    "x_train, x_test, y_train, y_test = train_test_split(x, y, test_size=0.17, shuffle=True)"
   ]
  },
  {
   "cell_type": "code",
   "execution_count": 18,
   "metadata": {},
   "outputs": [],
   "source": [
    "#Ml Model \n",
    "from sklearn.neural_network import MLPClassifier"
   ]
  },
  {
   "cell_type": "code",
   "execution_count": 19,
   "metadata": {},
   "outputs": [
    {
     "name": "stdout",
     "output_type": "stream",
     "text": [
      "Iteration 1, loss = 4.14157130\n",
      "Iteration 2, loss = 1.37106719\n",
      "Iteration 3, loss = 0.78799602\n",
      "Iteration 4, loss = 0.54167475\n",
      "Iteration 5, loss = 0.39509019\n",
      "Iteration 6, loss = 0.28774813\n",
      "Iteration 7, loss = 0.23423116\n",
      "Iteration 8, loss = 0.18094567\n",
      "Iteration 9, loss = 0.14992695\n",
      "Iteration 10, loss = 0.12319277\n",
      "Iteration 11, loss = 0.10379794\n",
      "Iteration 12, loss = 0.09185227\n",
      "Iteration 13, loss = 0.08676628\n",
      "Iteration 14, loss = 0.07942417\n",
      "Iteration 15, loss = 0.08812612\n",
      "Iteration 16, loss = 0.08968414\n",
      "Iteration 17, loss = 0.09594661\n",
      "Iteration 18, loss = 0.09710992\n",
      "Iteration 19, loss = 0.11210497\n",
      "Iteration 20, loss = 0.07768844\n",
      "Iteration 21, loss = 0.07142863\n",
      "Iteration 22, loss = 0.08167798\n",
      "Iteration 23, loss = 0.08063077\n",
      "Iteration 24, loss = 0.08874571\n",
      "Iteration 25, loss = 0.07298212\n",
      "Iteration 26, loss = 0.07806801\n",
      "Iteration 27, loss = 0.06160404\n",
      "Iteration 28, loss = 0.07386669\n",
      "Iteration 29, loss = 0.05635451\n",
      "Iteration 30, loss = 0.05955142\n",
      "Iteration 31, loss = 0.07946185\n",
      "Iteration 32, loss = 0.06624062\n",
      "Iteration 33, loss = 0.07897657\n",
      "Iteration 34, loss = 0.04982480\n",
      "Iteration 35, loss = 0.05877921\n",
      "Iteration 36, loss = 0.06659220\n",
      "Iteration 37, loss = 0.04870904\n",
      "Iteration 38, loss = 0.05036727\n",
      "Iteration 39, loss = 0.04260899\n",
      "Iteration 40, loss = 0.05113318\n",
      "Iteration 41, loss = 0.05417842\n",
      "Iteration 42, loss = 0.05487172\n",
      "Iteration 43, loss = 0.06033899\n",
      "Iteration 44, loss = 0.04647128\n",
      "Iteration 45, loss = 0.05967266\n",
      "Iteration 46, loss = 0.06228992\n",
      "Iteration 47, loss = 0.06830380\n",
      "Iteration 48, loss = 0.04804266\n",
      "Iteration 49, loss = 0.04740643\n",
      "Iteration 50, loss = 0.03333434\n",
      "Iteration 51, loss = 0.02704952\n",
      "Iteration 52, loss = 0.05554843\n",
      "Iteration 53, loss = 0.06514304\n",
      "Iteration 54, loss = 0.06528745\n",
      "Iteration 55, loss = 0.07337502\n",
      "Iteration 56, loss = 0.04954082\n",
      "Iteration 57, loss = 0.04081664\n",
      "Iteration 58, loss = 0.04115225\n",
      "Iteration 59, loss = 0.04864579\n",
      "Iteration 60, loss = 0.03877225\n",
      "Iteration 61, loss = 0.02444683\n",
      "Iteration 62, loss = 0.03548266\n",
      "Iteration 63, loss = 0.02978280\n",
      "Iteration 64, loss = 0.04392278\n",
      "Iteration 65, loss = 0.05471149\n",
      "Iteration 66, loss = 0.04716648\n",
      "Iteration 67, loss = 0.04157125\n",
      "Iteration 68, loss = 0.04962771\n",
      "Iteration 69, loss = 0.05229013\n",
      "Iteration 70, loss = 0.03895152\n",
      "Iteration 71, loss = 0.02974254\n",
      "Iteration 72, loss = 0.03112870\n",
      "Training loss did not improve more than tol=0.000100 for 10 consecutive epochs. Stopping.\n"
     ]
    },
    {
     "data": {
      "text/plain": [
       "MLPClassifier(verbose=True)"
      ]
     },
     "execution_count": 19,
     "metadata": {},
     "output_type": "execute_result"
    }
   ],
   "source": [
    "adid_model = MLPClassifier(verbose=True)\n",
    "adid_model.fit(X=x_train, y=y_train)"
   ]
  },
  {
   "cell_type": "code",
   "execution_count": 25,
   "metadata": {},
   "outputs": [
    {
     "data": {
      "text/plain": [
       "(0.9656826231162503, 0.9659653335288345, 0.9655299437903799)"
      ]
     },
     "execution_count": 25,
     "metadata": {},
     "output_type": "execute_result"
    }
   ],
   "source": [
    "#Evaluation model\n",
    "from sklearn.metrics import f1_score, precision_score, recall_score\n",
    "f1_score(y_true=y_test, y_pred=adid_model.predict(X=x_test), average=None).mean(),precision_score(y_true=y_test, y_pred=adid_model.predict(X=x_test), average=None).mean(), recall_score(y_true=y_test, y_pred=adid_model.predict(X=x_test), average=None).mean()"
   ]
  },
  {
   "cell_type": "code",
   "execution_count": 27,
   "metadata": {},
   "outputs": [
    {
     "data": {
      "text/plain": [
       "(array([8], dtype=int64), 8)"
      ]
     },
     "execution_count": 27,
     "metadata": {},
     "output_type": "execute_result"
    }
   ],
   "source": [
    "#optimization test\n",
    "adid_model.predict(X=[np.array(x_train)[300]]), np.array(y_train)[300]"
   ]
  },
  {
   "cell_type": "code",
   "execution_count": 47,
   "metadata": {},
   "outputs": [
    {
     "name": "stdout",
     "output_type": "stream",
     "text": [
      "<class 'numpy.ndarray'>\n"
     ]
    }
   ],
   "source": [
    "x = digits.loc[55][1:785].values\n",
    "print(x)\n"
   ]
  }
 ],
 "metadata": {
  "interpreter": {
   "hash": "4fbfea1dd5a17f80dff8df3ba641602c59e31ce1a55b82aea18e6894ff3c71a7"
  },
  "kernelspec": {
   "display_name": "Python 3.9.5 64-bit",
   "language": "python",
   "name": "python3"
  },
  "language_info": {
   "codemirror_mode": {
    "name": "ipython",
    "version": 3
   },
   "file_extension": ".py",
   "mimetype": "text/x-python",
   "name": "python",
   "nbconvert_exporter": "python",
   "pygments_lexer": "ipython3",
   "version": "3.9.5"
  },
  "orig_nbformat": 4
 },
 "nbformat": 4,
 "nbformat_minor": 2
}
